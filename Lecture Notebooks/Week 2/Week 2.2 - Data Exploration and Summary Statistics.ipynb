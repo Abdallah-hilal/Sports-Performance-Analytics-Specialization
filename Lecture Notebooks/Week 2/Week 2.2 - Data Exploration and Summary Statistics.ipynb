{
 "cells": [
  {
   "cell_type": "markdown",
   "metadata": {},
   "source": [
    "### Import Merged NBA Game Data"
   ]
  },
  {
   "cell_type": "code",
   "execution_count": null,
   "metadata": {},
   "outputs": [
    {
     "data": {
      "text/html": [
       "<div>\n",
       "<style scoped>\n",
       "    .dataframe tbody tr th:only-of-type {\n",
       "        vertical-align: middle;\n",
       "    }\n",
       "\n",
       "    .dataframe tbody tr th {\n",
       "        vertical-align: top;\n",
       "    }\n",
       "\n",
       "    .dataframe thead th {\n",
       "        text-align: right;\n",
       "    }\n",
       "</style>\n",
       "<table border=\"1\" class=\"dataframe\">\n",
       "  <thead>\n",
       "    <tr style=\"text-align: right;\">\n",
       "      <th></th>\n",
       "      <th>CITY</th>\n",
       "      <th>TEAM_NAME</th>\n",
       "      <th>TEAM_ID</th>\n",
       "      <th>NICKNAME</th>\n",
       "      <th>STATE</th>\n",
       "      <th>YEAR_FOUNDED</th>\n",
       "      <th>SEASON_ID</th>\n",
       "      <th>TEAM_ABBREVIATION</th>\n",
       "      <th>GAME_ID</th>\n",
       "      <th>GAME_DATE</th>\n",
       "      <th>...</th>\n",
       "      <th>DREB</th>\n",
       "      <th>REB</th>\n",
       "      <th>AST</th>\n",
       "      <th>STL</th>\n",
       "      <th>BLK</th>\n",
       "      <th>TOV</th>\n",
       "      <th>PF</th>\n",
       "      <th>PLUS_MINUS</th>\n",
       "      <th>GM</th>\n",
       "      <th>POINT_DIFF</th>\n",
       "    </tr>\n",
       "  </thead>\n",
       "  <tbody>\n",
       "    <tr>\n",
       "      <th>0</th>\n",
       "      <td>Indiana</td>\n",
       "      <td>Indiana Pacers</td>\n",
       "      <td>1610612754</td>\n",
       "      <td>Pacers</td>\n",
       "      <td>Indiana</td>\n",
       "      <td>1976</td>\n",
       "      <td>12013</td>\n",
       "      <td>IND</td>\n",
       "      <td>11300002</td>\n",
       "      <td>10/5/2013</td>\n",
       "      <td>...</td>\n",
       "      <td>27</td>\n",
       "      <td>38</td>\n",
       "      <td>15</td>\n",
       "      <td>12</td>\n",
       "      <td>8</td>\n",
       "      <td>15</td>\n",
       "      <td>23</td>\n",
       "      <td>-6.0</td>\n",
       "      <td>49</td>\n",
       "      <td>6.0</td>\n",
       "    </tr>\n",
       "    <tr>\n",
       "      <th>1</th>\n",
       "      <td>Chicago</td>\n",
       "      <td>Chicago Bulls</td>\n",
       "      <td>1610612741</td>\n",
       "      <td>Bulls</td>\n",
       "      <td>Illinois</td>\n",
       "      <td>1966</td>\n",
       "      <td>12013</td>\n",
       "      <td>CHI</td>\n",
       "      <td>11300002</td>\n",
       "      <td>10/5/2013</td>\n",
       "      <td>...</td>\n",
       "      <td>39</td>\n",
       "      <td>56</td>\n",
       "      <td>20</td>\n",
       "      <td>5</td>\n",
       "      <td>10</td>\n",
       "      <td>23</td>\n",
       "      <td>25</td>\n",
       "      <td>6.0</td>\n",
       "      <td>54</td>\n",
       "      <td>6.0</td>\n",
       "    </tr>\n",
       "    <tr>\n",
       "      <th>2</th>\n",
       "      <td>Houston</td>\n",
       "      <td>Houston Rockets</td>\n",
       "      <td>1610612745</td>\n",
       "      <td>Rockets</td>\n",
       "      <td>Texas</td>\n",
       "      <td>1967</td>\n",
       "      <td>12013</td>\n",
       "      <td>HOU</td>\n",
       "      <td>11300003</td>\n",
       "      <td>10/5/2013</td>\n",
       "      <td>...</td>\n",
       "      <td>30</td>\n",
       "      <td>35</td>\n",
       "      <td>24</td>\n",
       "      <td>9</td>\n",
       "      <td>4</td>\n",
       "      <td>22</td>\n",
       "      <td>27</td>\n",
       "      <td>-1.0</td>\n",
       "      <td>76</td>\n",
       "      <td>1.0</td>\n",
       "    </tr>\n",
       "    <tr>\n",
       "      <th>3</th>\n",
       "      <td>New Orleans</td>\n",
       "      <td>New Orleans Pelicans</td>\n",
       "      <td>1610612740</td>\n",
       "      <td>Pelicans</td>\n",
       "      <td>Louisiana</td>\n",
       "      <td>2002</td>\n",
       "      <td>12013</td>\n",
       "      <td>NOP</td>\n",
       "      <td>11300003</td>\n",
       "      <td>10/5/2013</td>\n",
       "      <td>...</td>\n",
       "      <td>21</td>\n",
       "      <td>33</td>\n",
       "      <td>17</td>\n",
       "      <td>12</td>\n",
       "      <td>4</td>\n",
       "      <td>15</td>\n",
       "      <td>32</td>\n",
       "      <td>1.0</td>\n",
       "      <td>74</td>\n",
       "      <td>1.0</td>\n",
       "    </tr>\n",
       "    <tr>\n",
       "      <th>4</th>\n",
       "      <td>Golden State</td>\n",
       "      <td>Golden State Warriors</td>\n",
       "      <td>1610612744</td>\n",
       "      <td>Warriors</td>\n",
       "      <td>California</td>\n",
       "      <td>1946</td>\n",
       "      <td>12013</td>\n",
       "      <td>GSW</td>\n",
       "      <td>11300004</td>\n",
       "      <td>10/5/2013</td>\n",
       "      <td>...</td>\n",
       "      <td>38</td>\n",
       "      <td>52</td>\n",
       "      <td>21</td>\n",
       "      <td>13</td>\n",
       "      <td>5</td>\n",
       "      <td>23</td>\n",
       "      <td>31</td>\n",
       "      <td>-9.0</td>\n",
       "      <td>60</td>\n",
       "      <td>9.0</td>\n",
       "    </tr>\n",
       "  </tbody>\n",
       "</table>\n",
       "<p>5 rows × 34 columns</p>\n",
       "</div>"
      ],
      "text/plain": [
       "           CITY              TEAM_NAME     TEAM_ID  NICKNAME       STATE  \\\n",
       "0       Indiana         Indiana Pacers  1610612754    Pacers     Indiana   \n",
       "1       Chicago          Chicago Bulls  1610612741     Bulls    Illinois   \n",
       "2       Houston        Houston Rockets  1610612745   Rockets       Texas   \n",
       "3   New Orleans   New Orleans Pelicans  1610612740  Pelicans   Louisiana   \n",
       "4  Golden State  Golden State Warriors  1610612744  Warriors  California   \n",
       "\n",
       "   YEAR_FOUNDED  SEASON_ID TEAM_ABBREVIATION   GAME_ID  GAME_DATE  ... DREB  \\\n",
       "0          1976      12013               IND  11300002  10/5/2013  ...   27   \n",
       "1          1966      12013               CHI  11300002  10/5/2013  ...   39   \n",
       "2          1967      12013               HOU  11300003  10/5/2013  ...   30   \n",
       "3          2002      12013               NOP  11300003  10/5/2013  ...   21   \n",
       "4          1946      12013               GSW  11300004  10/5/2013  ...   38   \n",
       "\n",
       "  REB  AST  STL  BLK  TOV  PF  PLUS_MINUS  GM  POINT_DIFF  \n",
       "0  38   15   12    8   15  23        -6.0  49         6.0  \n",
       "1  56   20    5   10   23  25         6.0  54         6.0  \n",
       "2  35   24    9    4   22  27        -1.0  76         1.0  \n",
       "3  33   17   12    4   15  32         1.0  74         1.0  \n",
       "4  52   21   13    5   23  31        -9.0  60         9.0  \n",
       "\n",
       "[5 rows x 34 columns]"
      ]
     },
     "execution_count": 13,
     "metadata": {},
     "output_type": "execute_result"
    }
   ],
   "source": [
    "import pandas as pd\n",
    "NBA_Games=pd.read_csv(\"../../Data/Week 2/NBA_Games.csv\")\n",
    "NBA_Games.head()"
   ]
  },
  {
   "cell_type": "markdown",
   "metadata": {
    "scrolled": true
   },
   "source": [
    "## Explore the dataset\n",
    "\n",
    "### Qualitative (Categorical) vs. Quantitative (Numerical) Data\n",
    "-- To assess the variable type in Python, we use the “dtypes” command.\n",
    "\n",
    "- object: qualitative variable -- variables that are not in numerical form \n",
    "- int64: quantitative & discrete -- integer \n",
    "- float64: quantitative & continuous -- real numbers that may contain decimal points"
   ]
  },
  {
   "cell_type": "code",
   "execution_count": null,
   "metadata": {},
   "outputs": [
    {
     "data": {
      "text/plain": [
       "CITY                  object\n",
       "TEAM_NAME             object\n",
       "TEAM_ID                int64\n",
       "NICKNAME              object\n",
       "STATE                 object\n",
       "YEAR_FOUNDED           int64\n",
       "SEASON_ID              int64\n",
       "TEAM_ABBREVIATION     object\n",
       "GAME_ID                int64\n",
       "GAME_DATE             object\n",
       "MATCHUP               object\n",
       "WL                    object\n",
       "MIN                    int64\n",
       "PTS                    int64\n",
       "FGM                    int64\n",
       "FGA                    int64\n",
       "FG_PCT               float64\n",
       "FG3M                   int64\n",
       "FG3A                   int64\n",
       "FG3_PCT              float64\n",
       "FTM                    int64\n",
       "FTA                    int64\n",
       "FT_PCT               float64\n",
       "OREB                   int64\n",
       "DREB                   int64\n",
       "REB                    int64\n",
       "AST                    int64\n",
       "STL                    int64\n",
       "BLK                    int64\n",
       "TOV                    int64\n",
       "PF                     int64\n",
       "PLUS_MINUS           float64\n",
       "GM                     int64\n",
       "POINT_DIFF           float64\n",
       "dtype: object"
      ]
     },
     "execution_count": 14,
     "metadata": {},
     "output_type": "execute_result"
    }
   ],
   "source": [
    "NBA_Games.dtypes"
   ]
  },
  {
   "cell_type": "markdown",
   "metadata": {},
   "source": [
    "In data analysis, we often convert categorical variable into dummy variable, if the observation belongs to the specified category, the dummy variable indicating the category would equal to 1, otherwise it equals to 0.\n",
    "\n",
    "### Convert a categorical variable to a dummy variable\n",
    "_The variable \"WL\" only carries two values, win or lose. We will create dummy variables to capture the categories._ \n",
    "\n",
    "We can use the “pd.get_dummies” function to convert a categorical variable to dummy variable. This function will also omit any missing value."
   ]
  },
  {
   "cell_type": "code",
   "execution_count": null,
   "metadata": {},
   "outputs": [],
   "source": [
    "dummy=pd.get_dummies(NBA_Games, columns=['WL'])"
   ]
  },
  {
   "cell_type": "code",
   "execution_count": null,
   "metadata": {},
   "outputs": [
    {
     "name": "stdout",
     "output_type": "stream",
     "text": [
      "(17779, 35)\n",
      "(17779, 34)\n"
     ]
    }
   ],
   "source": [
    "print(dummy.shape)\n",
    "print(NBA_Games.shape)"
   ]
  },
  {
   "cell_type": "markdown",
   "metadata": {},
   "source": [
    "Notice that two variables are created, WL_L and WL_W. WL_L=1 if the team lost and WL_L=0 if the team won. The original variable WL is deleted."
   ]
  },
  {
   "cell_type": "markdown",
   "metadata": {},
   "source": [
    "#### We can attach the \"WL_W\" dummy variable back to our NBA_Games dataset using the pd.concat function.\n",
    "- axis=1 specifies that we are adding a column to the dataset; \n",
    "- axis=0 indicates adding rows \n"
   ]
  },
  {
   "cell_type": "code",
   "execution_count": null,
   "metadata": {},
   "outputs": [
    {
     "data": {
      "text/plain": [
       "Index(['CITY', 'TEAM_NAME', 'TEAM_ID', 'NICKNAME', 'STATE', 'YEAR_FOUNDED',\n",
       "       'SEASON_ID', 'TEAM_ABBREVIATION', 'GAME_ID', 'GAME_DATE', 'MATCHUP',\n",
       "       'WL', 'MIN', 'PTS', 'FGM', 'FGA', 'FG_PCT', 'FG3M', 'FG3A', 'FG3_PCT',\n",
       "       'FTM', 'FTA', 'FT_PCT', 'OREB', 'DREB', 'REB', 'AST', 'STL', 'BLK',\n",
       "       'TOV', 'PF', 'PLUS_MINUS', 'GM', 'POINT_DIFF', 'WL_W'],\n",
       "      dtype='object')"
      ]
     },
     "execution_count": 17,
     "metadata": {},
     "output_type": "execute_result"
    }
   ],
   "source": [
    "NBA_Games=pd.concat([NBA_Games, dummy['WL_W']], axis=1)\n",
    "NBA_Games.columns"
   ]
  },
  {
   "cell_type": "markdown",
   "metadata": {},
   "source": [
    "#### Rename \"WL_W\" to \"WIN\"\n"
   ]
  },
  {
   "cell_type": "code",
   "execution_count": null,
   "metadata": {},
   "outputs": [
    {
     "data": {
      "text/plain": [
       "0        L\n",
       "1        W\n",
       "2        L\n",
       "3        W\n",
       "4        L\n",
       "        ..\n",
       "17774    W\n",
       "17775    L\n",
       "17776    W\n",
       "17777    L\n",
       "17778    W\n",
       "Name: WL, Length: 17779, dtype: object"
      ]
     },
     "execution_count": 20,
     "metadata": {},
     "output_type": "execute_result"
    }
   ],
   "source": [
    "NBA_Games.rename(columns={'WL_W':'WIN'}, inplace=True)\n",
    "NBA_Games.WL"
   ]
  },
  {
   "cell_type": "markdown",
   "metadata": {},
   "source": [
    "### Working with date variable\n",
    "\n",
    "In sports, we often have to work with date and time data. \n"
   ]
  },
  {
   "cell_type": "code",
   "execution_count": null,
   "metadata": {},
   "outputs": [
    {
     "data": {
      "text/plain": [
       "dtype('O')"
      ]
     },
     "execution_count": 21,
     "metadata": {},
     "output_type": "execute_result"
    }
   ],
   "source": [
    "NBA_Games['GAME_DATE'].dtype"
   ]
  },
  {
   "cell_type": "markdown",
   "metadata": {},
   "source": [
    "_The date variable is originally stored as an object. In this case, each date is treated equally without ordering._ "
   ]
  },
  {
   "cell_type": "markdown",
   "metadata": {
    "scrolled": true
   },
   "source": [
    "#### We can use the “pd._to_datetime()” command to convert the object variable to a date variable."
   ]
  },
  {
   "cell_type": "code",
   "execution_count": null,
   "metadata": {},
   "outputs": [
    {
     "data": {
      "text/plain": [
       "0   2013-10-05\n",
       "1   2013-10-05\n",
       "2   2013-10-05\n",
       "3   2013-10-05\n",
       "4   2013-10-05\n",
       "Name: GAME_DATE, dtype: datetime64[ns]"
      ]
     },
     "execution_count": 22,
     "metadata": {},
     "output_type": "execute_result"
    }
   ],
   "source": [
    "import datetime\n",
    "NBA_Games['GAME_DATE']=pd.to_datetime(NBA_Games['GAME_DATE'])\n",
    "NBA_Games['GAME_DATE'].head()"
   ]
  },
  {
   "cell_type": "markdown",
   "metadata": {},
   "source": [
    "## Descriptive and Summary Analyses\n",
    "### Summarize numerical data\n",
    "We can use the “describe()” command to calculate summary statistics. This will return basic summary statistics for all the numerical variables which include the total number of observations (count), the average, standard deviation, min and max, median, and the first and third quartiles of the values of the variable."
   ]
  },
  {
   "cell_type": "code",
   "execution_count": null,
   "metadata": {},
   "outputs": [
    {
     "data": {
      "text/html": [
       "<div>\n",
       "<style scoped>\n",
       "    .dataframe tbody tr th:only-of-type {\n",
       "        vertical-align: middle;\n",
       "    }\n",
       "\n",
       "    .dataframe tbody tr th {\n",
       "        vertical-align: top;\n",
       "    }\n",
       "\n",
       "    .dataframe thead th {\n",
       "        text-align: right;\n",
       "    }\n",
       "</style>\n",
       "<table border=\"1\" class=\"dataframe\">\n",
       "  <thead>\n",
       "    <tr style=\"text-align: right;\">\n",
       "      <th></th>\n",
       "      <th>TEAM_ID</th>\n",
       "      <th>YEAR_FOUNDED</th>\n",
       "      <th>SEASON_ID</th>\n",
       "      <th>GAME_ID</th>\n",
       "      <th>MIN</th>\n",
       "      <th>PTS</th>\n",
       "      <th>FGM</th>\n",
       "      <th>FGA</th>\n",
       "      <th>FG_PCT</th>\n",
       "      <th>FG3M</th>\n",
       "      <th>...</th>\n",
       "      <th>REB</th>\n",
       "      <th>AST</th>\n",
       "      <th>STL</th>\n",
       "      <th>BLK</th>\n",
       "      <th>TOV</th>\n",
       "      <th>PF</th>\n",
       "      <th>PLUS_MINUS</th>\n",
       "      <th>GM</th>\n",
       "      <th>POINT_DIFF</th>\n",
       "      <th>WIN</th>\n",
       "    </tr>\n",
       "  </thead>\n",
       "  <tbody>\n",
       "    <tr>\n",
       "      <th>count</th>\n",
       "      <td>1.777900e+04</td>\n",
       "      <td>17779.000000</td>\n",
       "      <td>17779.000000</td>\n",
       "      <td>1.777900e+04</td>\n",
       "      <td>17779.000000</td>\n",
       "      <td>17779.000000</td>\n",
       "      <td>17779.000000</td>\n",
       "      <td>17779.000000</td>\n",
       "      <td>17779.000000</td>\n",
       "      <td>17779.000000</td>\n",
       "      <td>...</td>\n",
       "      <td>17779.000000</td>\n",
       "      <td>17779.000000</td>\n",
       "      <td>17779.000000</td>\n",
       "      <td>17779.000000</td>\n",
       "      <td>17779.000000</td>\n",
       "      <td>17779.000000</td>\n",
       "      <td>17779.000000</td>\n",
       "      <td>17779.000000</td>\n",
       "      <td>17779.000000</td>\n",
       "      <td>17779.000000</td>\n",
       "    </tr>\n",
       "    <tr>\n",
       "      <th>mean</th>\n",
       "      <td>1.610613e+09</td>\n",
       "      <td>1969.512402</td>\n",
       "      <td>22692.567130</td>\n",
       "      <td>1.183556e+08</td>\n",
       "      <td>239.157433</td>\n",
       "      <td>102.423421</td>\n",
       "      <td>37.944035</td>\n",
       "      <td>83.974127</td>\n",
       "      <td>0.452485</td>\n",
       "      <td>9.037629</td>\n",
       "      <td>...</td>\n",
       "      <td>43.215535</td>\n",
       "      <td>22.082851</td>\n",
       "      <td>7.785309</td>\n",
       "      <td>4.819225</td>\n",
       "      <td>13.963890</td>\n",
       "      <td>20.673885</td>\n",
       "      <td>-0.002666</td>\n",
       "      <td>64.479386</td>\n",
       "      <td>11.187525</td>\n",
       "      <td>0.499972</td>\n",
       "    </tr>\n",
       "    <tr>\n",
       "      <th>std</th>\n",
       "      <td>8.676904e+00</td>\n",
       "      <td>16.503036</td>\n",
       "      <td>5534.895754</td>\n",
       "      <td>3.655546e+08</td>\n",
       "      <td>12.496399</td>\n",
       "      <td>13.598390</td>\n",
       "      <td>5.646131</td>\n",
       "      <td>8.337715</td>\n",
       "      <td>0.056357</td>\n",
       "      <td>3.724917</td>\n",
       "      <td>...</td>\n",
       "      <td>6.709445</td>\n",
       "      <td>5.463359</td>\n",
       "      <td>2.962259</td>\n",
       "      <td>2.520843</td>\n",
       "      <td>4.024721</td>\n",
       "      <td>4.563555</td>\n",
       "      <td>13.889791</td>\n",
       "      <td>9.140930</td>\n",
       "      <td>8.254579</td>\n",
       "      <td>0.500014</td>\n",
       "    </tr>\n",
       "    <tr>\n",
       "      <th>min</th>\n",
       "      <td>1.610613e+09</td>\n",
       "      <td>1946.000000</td>\n",
       "      <td>12013.000000</td>\n",
       "      <td>1.130000e+07</td>\n",
       "      <td>170.000000</td>\n",
       "      <td>47.000000</td>\n",
       "      <td>15.000000</td>\n",
       "      <td>46.000000</td>\n",
       "      <td>0.217000</td>\n",
       "      <td>0.000000</td>\n",
       "      <td>...</td>\n",
       "      <td>17.000000</td>\n",
       "      <td>2.000000</td>\n",
       "      <td>0.000000</td>\n",
       "      <td>0.000000</td>\n",
       "      <td>2.000000</td>\n",
       "      <td>7.000000</td>\n",
       "      <td>-61.000000</td>\n",
       "      <td>29.000000</td>\n",
       "      <td>-42.000000</td>\n",
       "      <td>0.000000</td>\n",
       "    </tr>\n",
       "    <tr>\n",
       "      <th>25%</th>\n",
       "      <td>1.610613e+09</td>\n",
       "      <td>1949.000000</td>\n",
       "      <td>22014.000000</td>\n",
       "      <td>2.140029e+07</td>\n",
       "      <td>239.000000</td>\n",
       "      <td>93.000000</td>\n",
       "      <td>34.000000</td>\n",
       "      <td>79.000000</td>\n",
       "      <td>0.414000</td>\n",
       "      <td>6.000000</td>\n",
       "      <td>...</td>\n",
       "      <td>39.000000</td>\n",
       "      <td>18.000000</td>\n",
       "      <td>6.000000</td>\n",
       "      <td>3.000000</td>\n",
       "      <td>11.000000</td>\n",
       "      <td>18.000000</td>\n",
       "      <td>-9.000000</td>\n",
       "      <td>58.000000</td>\n",
       "      <td>5.000000</td>\n",
       "      <td>0.000000</td>\n",
       "    </tr>\n",
       "    <tr>\n",
       "      <th>50%</th>\n",
       "      <td>1.610613e+09</td>\n",
       "      <td>1970.000000</td>\n",
       "      <td>22015.000000</td>\n",
       "      <td>2.160015e+07</td>\n",
       "      <td>240.000000</td>\n",
       "      <td>103.000000</td>\n",
       "      <td>38.000000</td>\n",
       "      <td>84.000000</td>\n",
       "      <td>0.452000</td>\n",
       "      <td>9.000000</td>\n",
       "      <td>...</td>\n",
       "      <td>43.000000</td>\n",
       "      <td>22.000000</td>\n",
       "      <td>8.000000</td>\n",
       "      <td>5.000000</td>\n",
       "      <td>14.000000</td>\n",
       "      <td>20.000000</td>\n",
       "      <td>0.000000</td>\n",
       "      <td>64.000000</td>\n",
       "      <td>9.000000</td>\n",
       "      <td>0.000000</td>\n",
       "    </tr>\n",
       "    <tr>\n",
       "      <th>75%</th>\n",
       "      <td>1.610613e+09</td>\n",
       "      <td>1980.000000</td>\n",
       "      <td>22017.000000</td>\n",
       "      <td>2.180007e+07</td>\n",
       "      <td>241.000000</td>\n",
       "      <td>112.000000</td>\n",
       "      <td>42.000000</td>\n",
       "      <td>89.000000</td>\n",
       "      <td>0.489000</td>\n",
       "      <td>11.000000</td>\n",
       "      <td>...</td>\n",
       "      <td>48.000000</td>\n",
       "      <td>26.000000</td>\n",
       "      <td>10.000000</td>\n",
       "      <td>6.000000</td>\n",
       "      <td>16.000000</td>\n",
       "      <td>24.000000</td>\n",
       "      <td>9.000000</td>\n",
       "      <td>71.000000</td>\n",
       "      <td>16.000000</td>\n",
       "      <td>1.000000</td>\n",
       "    </tr>\n",
       "    <tr>\n",
       "      <th>max</th>\n",
       "      <td>1.610613e+09</td>\n",
       "      <td>2002.000000</td>\n",
       "      <td>42018.000000</td>\n",
       "      <td>1.621900e+09</td>\n",
       "      <td>341.000000</td>\n",
       "      <td>168.000000</td>\n",
       "      <td>61.000000</td>\n",
       "      <td>129.000000</td>\n",
       "      <td>0.684000</td>\n",
       "      <td>27.000000</td>\n",
       "      <td>...</td>\n",
       "      <td>81.000000</td>\n",
       "      <td>47.000000</td>\n",
       "      <td>21.000000</td>\n",
       "      <td>19.000000</td>\n",
       "      <td>35.000000</td>\n",
       "      <td>45.000000</td>\n",
       "      <td>61.000000</td>\n",
       "      <td>112.000000</td>\n",
       "      <td>61.000000</td>\n",
       "      <td>1.000000</td>\n",
       "    </tr>\n",
       "  </tbody>\n",
       "</table>\n",
       "<p>8 rows × 27 columns</p>\n",
       "</div>"
      ],
      "text/plain": [
       "            TEAM_ID  YEAR_FOUNDED     SEASON_ID       GAME_ID           MIN  \\\n",
       "count  1.777900e+04  17779.000000  17779.000000  1.777900e+04  17779.000000   \n",
       "mean   1.610613e+09   1969.512402  22692.567130  1.183556e+08    239.157433   \n",
       "std    8.676904e+00     16.503036   5534.895754  3.655546e+08     12.496399   \n",
       "min    1.610613e+09   1946.000000  12013.000000  1.130000e+07    170.000000   \n",
       "25%    1.610613e+09   1949.000000  22014.000000  2.140029e+07    239.000000   \n",
       "50%    1.610613e+09   1970.000000  22015.000000  2.160015e+07    240.000000   \n",
       "75%    1.610613e+09   1980.000000  22017.000000  2.180007e+07    241.000000   \n",
       "max    1.610613e+09   2002.000000  42018.000000  1.621900e+09    341.000000   \n",
       "\n",
       "                PTS           FGM           FGA        FG_PCT          FG3M  \\\n",
       "count  17779.000000  17779.000000  17779.000000  17779.000000  17779.000000   \n",
       "mean     102.423421     37.944035     83.974127      0.452485      9.037629   \n",
       "std       13.598390      5.646131      8.337715      0.056357      3.724917   \n",
       "min       47.000000     15.000000     46.000000      0.217000      0.000000   \n",
       "25%       93.000000     34.000000     79.000000      0.414000      6.000000   \n",
       "50%      103.000000     38.000000     84.000000      0.452000      9.000000   \n",
       "75%      112.000000     42.000000     89.000000      0.489000     11.000000   \n",
       "max      168.000000     61.000000    129.000000      0.684000     27.000000   \n",
       "\n",
       "       ...           REB           AST           STL           BLK  \\\n",
       "count  ...  17779.000000  17779.000000  17779.000000  17779.000000   \n",
       "mean   ...     43.215535     22.082851      7.785309      4.819225   \n",
       "std    ...      6.709445      5.463359      2.962259      2.520843   \n",
       "min    ...     17.000000      2.000000      0.000000      0.000000   \n",
       "25%    ...     39.000000     18.000000      6.000000      3.000000   \n",
       "50%    ...     43.000000     22.000000      8.000000      5.000000   \n",
       "75%    ...     48.000000     26.000000     10.000000      6.000000   \n",
       "max    ...     81.000000     47.000000     21.000000     19.000000   \n",
       "\n",
       "                TOV            PF    PLUS_MINUS            GM    POINT_DIFF  \\\n",
       "count  17779.000000  17779.000000  17779.000000  17779.000000  17779.000000   \n",
       "mean      13.963890     20.673885     -0.002666     64.479386     11.187525   \n",
       "std        4.024721      4.563555     13.889791      9.140930      8.254579   \n",
       "min        2.000000      7.000000    -61.000000     29.000000    -42.000000   \n",
       "25%       11.000000     18.000000     -9.000000     58.000000      5.000000   \n",
       "50%       14.000000     20.000000      0.000000     64.000000      9.000000   \n",
       "75%       16.000000     24.000000      9.000000     71.000000     16.000000   \n",
       "max       35.000000     45.000000     61.000000    112.000000     61.000000   \n",
       "\n",
       "                WIN  \n",
       "count  17779.000000  \n",
       "mean       0.499972  \n",
       "std        0.500014  \n",
       "min        0.000000  \n",
       "25%        0.000000  \n",
       "50%        0.000000  \n",
       "75%        1.000000  \n",
       "max        1.000000  \n",
       "\n",
       "[8 rows x 27 columns]"
      ]
     },
     "execution_count": 23,
     "metadata": {},
     "output_type": "execute_result"
    }
   ],
   "source": [
    "NBA_Games.describe()"
   ]
  },
  {
   "cell_type": "markdown",
   "metadata": {},
   "source": [
    "#### We can also add non-numerical variable into this summary statistics table by adding the argument “include=’all’”. You will see that for non-numerical variables, it provides the number of distinct values in the variable and the most frequently appeared value of the variable as well as its frequency. For date variable, in addition to providing the most frequent date appeared in the dataset, it also summarizes the start and end dates of the dataset.\n"
   ]
  },
  {
   "cell_type": "code",
   "execution_count": null,
   "metadata": {},
   "outputs": [
    {
     "name": "stderr",
     "output_type": "stream",
     "text": [
      "c:\\Users\\Dell\\anaconda3\\envs\\hands_on_ml_env\\lib\\site-packages\\ipykernel_launcher.py:1: FutureWarning: Treating datetime data as categorical rather than numeric in `.describe` is deprecated and will be removed in a future version of pandas. Specify `datetime_is_numeric=True` to silence this warning and adopt the future behavior now.\n",
      "  \"\"\"Entry point for launching an IPython kernel.\n"
     ]
    },
    {
     "data": {
      "text/html": [
       "<div>\n",
       "<style scoped>\n",
       "    .dataframe tbody tr th:only-of-type {\n",
       "        vertical-align: middle;\n",
       "    }\n",
       "\n",
       "    .dataframe tbody tr th {\n",
       "        vertical-align: top;\n",
       "    }\n",
       "\n",
       "    .dataframe thead th {\n",
       "        text-align: right;\n",
       "    }\n",
       "</style>\n",
       "<table border=\"1\" class=\"dataframe\">\n",
       "  <thead>\n",
       "    <tr style=\"text-align: right;\">\n",
       "      <th></th>\n",
       "      <th>CITY</th>\n",
       "      <th>TEAM_NAME</th>\n",
       "      <th>TEAM_ID</th>\n",
       "      <th>NICKNAME</th>\n",
       "      <th>STATE</th>\n",
       "      <th>YEAR_FOUNDED</th>\n",
       "      <th>SEASON_ID</th>\n",
       "      <th>TEAM_ABBREVIATION</th>\n",
       "      <th>GAME_ID</th>\n",
       "      <th>GAME_DATE</th>\n",
       "      <th>...</th>\n",
       "      <th>REB</th>\n",
       "      <th>AST</th>\n",
       "      <th>STL</th>\n",
       "      <th>BLK</th>\n",
       "      <th>TOV</th>\n",
       "      <th>PF</th>\n",
       "      <th>PLUS_MINUS</th>\n",
       "      <th>GM</th>\n",
       "      <th>POINT_DIFF</th>\n",
       "      <th>WIN</th>\n",
       "    </tr>\n",
       "  </thead>\n",
       "  <tbody>\n",
       "    <tr>\n",
       "      <th>count</th>\n",
       "      <td>17779</td>\n",
       "      <td>17779</td>\n",
       "      <td>1.777900e+04</td>\n",
       "      <td>17779</td>\n",
       "      <td>17779</td>\n",
       "      <td>17779.000000</td>\n",
       "      <td>17779.000000</td>\n",
       "      <td>17779</td>\n",
       "      <td>1.777900e+04</td>\n",
       "      <td>17779</td>\n",
       "      <td>...</td>\n",
       "      <td>17779.000000</td>\n",
       "      <td>17779.000000</td>\n",
       "      <td>17779.000000</td>\n",
       "      <td>17779.000000</td>\n",
       "      <td>17779.000000</td>\n",
       "      <td>17779.000000</td>\n",
       "      <td>17779.000000</td>\n",
       "      <td>17779.000000</td>\n",
       "      <td>17779.000000</td>\n",
       "      <td>17779.000000</td>\n",
       "    </tr>\n",
       "    <tr>\n",
       "      <th>unique</th>\n",
       "      <td>29</td>\n",
       "      <td>30</td>\n",
       "      <td>NaN</td>\n",
       "      <td>30</td>\n",
       "      <td>23</td>\n",
       "      <td>NaN</td>\n",
       "      <td>NaN</td>\n",
       "      <td>30</td>\n",
       "      <td>NaN</td>\n",
       "      <td>1559</td>\n",
       "      <td>...</td>\n",
       "      <td>NaN</td>\n",
       "      <td>NaN</td>\n",
       "      <td>NaN</td>\n",
       "      <td>NaN</td>\n",
       "      <td>NaN</td>\n",
       "      <td>NaN</td>\n",
       "      <td>NaN</td>\n",
       "      <td>NaN</td>\n",
       "      <td>NaN</td>\n",
       "      <td>NaN</td>\n",
       "    </tr>\n",
       "    <tr>\n",
       "      <th>top</th>\n",
       "      <td>Los Angeles</td>\n",
       "      <td>Golden State Warriors</td>\n",
       "      <td>NaN</td>\n",
       "      <td>Warriors</td>\n",
       "      <td>California</td>\n",
       "      <td>NaN</td>\n",
       "      <td>NaN</td>\n",
       "      <td>GSW</td>\n",
       "      <td>NaN</td>\n",
       "      <td>2015-04-15 00:00:00</td>\n",
       "      <td>...</td>\n",
       "      <td>NaN</td>\n",
       "      <td>NaN</td>\n",
       "      <td>NaN</td>\n",
       "      <td>NaN</td>\n",
       "      <td>NaN</td>\n",
       "      <td>NaN</td>\n",
       "      <td>NaN</td>\n",
       "      <td>NaN</td>\n",
       "      <td>NaN</td>\n",
       "      <td>NaN</td>\n",
       "    </tr>\n",
       "    <tr>\n",
       "      <th>freq</th>\n",
       "      <td>816</td>\n",
       "      <td>688</td>\n",
       "      <td>NaN</td>\n",
       "      <td>688</td>\n",
       "      <td>2068</td>\n",
       "      <td>NaN</td>\n",
       "      <td>NaN</td>\n",
       "      <td>688</td>\n",
       "      <td>NaN</td>\n",
       "      <td>28</td>\n",
       "      <td>...</td>\n",
       "      <td>NaN</td>\n",
       "      <td>NaN</td>\n",
       "      <td>NaN</td>\n",
       "      <td>NaN</td>\n",
       "      <td>NaN</td>\n",
       "      <td>NaN</td>\n",
       "      <td>NaN</td>\n",
       "      <td>NaN</td>\n",
       "      <td>NaN</td>\n",
       "      <td>NaN</td>\n",
       "    </tr>\n",
       "    <tr>\n",
       "      <th>first</th>\n",
       "      <td>NaN</td>\n",
       "      <td>NaN</td>\n",
       "      <td>NaN</td>\n",
       "      <td>NaN</td>\n",
       "      <td>NaN</td>\n",
       "      <td>NaN</td>\n",
       "      <td>NaN</td>\n",
       "      <td>NaN</td>\n",
       "      <td>NaN</td>\n",
       "      <td>2013-03-09 00:00:00</td>\n",
       "      <td>...</td>\n",
       "      <td>NaN</td>\n",
       "      <td>NaN</td>\n",
       "      <td>NaN</td>\n",
       "      <td>NaN</td>\n",
       "      <td>NaN</td>\n",
       "      <td>NaN</td>\n",
       "      <td>NaN</td>\n",
       "      <td>NaN</td>\n",
       "      <td>NaN</td>\n",
       "      <td>NaN</td>\n",
       "    </tr>\n",
       "    <tr>\n",
       "      <th>last</th>\n",
       "      <td>NaN</td>\n",
       "      <td>NaN</td>\n",
       "      <td>NaN</td>\n",
       "      <td>NaN</td>\n",
       "      <td>NaN</td>\n",
       "      <td>NaN</td>\n",
       "      <td>NaN</td>\n",
       "      <td>NaN</td>\n",
       "      <td>NaN</td>\n",
       "      <td>2019-07-15 00:00:00</td>\n",
       "      <td>...</td>\n",
       "      <td>NaN</td>\n",
       "      <td>NaN</td>\n",
       "      <td>NaN</td>\n",
       "      <td>NaN</td>\n",
       "      <td>NaN</td>\n",
       "      <td>NaN</td>\n",
       "      <td>NaN</td>\n",
       "      <td>NaN</td>\n",
       "      <td>NaN</td>\n",
       "      <td>NaN</td>\n",
       "    </tr>\n",
       "    <tr>\n",
       "      <th>mean</th>\n",
       "      <td>NaN</td>\n",
       "      <td>NaN</td>\n",
       "      <td>1.610613e+09</td>\n",
       "      <td>NaN</td>\n",
       "      <td>NaN</td>\n",
       "      <td>1969.512402</td>\n",
       "      <td>22692.567130</td>\n",
       "      <td>NaN</td>\n",
       "      <td>1.183556e+08</td>\n",
       "      <td>NaN</td>\n",
       "      <td>...</td>\n",
       "      <td>43.215535</td>\n",
       "      <td>22.082851</td>\n",
       "      <td>7.785309</td>\n",
       "      <td>4.819225</td>\n",
       "      <td>13.963890</td>\n",
       "      <td>20.673885</td>\n",
       "      <td>-0.002666</td>\n",
       "      <td>64.479386</td>\n",
       "      <td>11.187525</td>\n",
       "      <td>0.499972</td>\n",
       "    </tr>\n",
       "    <tr>\n",
       "      <th>std</th>\n",
       "      <td>NaN</td>\n",
       "      <td>NaN</td>\n",
       "      <td>8.676904e+00</td>\n",
       "      <td>NaN</td>\n",
       "      <td>NaN</td>\n",
       "      <td>16.503036</td>\n",
       "      <td>5534.895754</td>\n",
       "      <td>NaN</td>\n",
       "      <td>3.655546e+08</td>\n",
       "      <td>NaN</td>\n",
       "      <td>...</td>\n",
       "      <td>6.709445</td>\n",
       "      <td>5.463359</td>\n",
       "      <td>2.962259</td>\n",
       "      <td>2.520843</td>\n",
       "      <td>4.024721</td>\n",
       "      <td>4.563555</td>\n",
       "      <td>13.889791</td>\n",
       "      <td>9.140930</td>\n",
       "      <td>8.254579</td>\n",
       "      <td>0.500014</td>\n",
       "    </tr>\n",
       "    <tr>\n",
       "      <th>min</th>\n",
       "      <td>NaN</td>\n",
       "      <td>NaN</td>\n",
       "      <td>1.610613e+09</td>\n",
       "      <td>NaN</td>\n",
       "      <td>NaN</td>\n",
       "      <td>1946.000000</td>\n",
       "      <td>12013.000000</td>\n",
       "      <td>NaN</td>\n",
       "      <td>1.130000e+07</td>\n",
       "      <td>NaN</td>\n",
       "      <td>...</td>\n",
       "      <td>17.000000</td>\n",
       "      <td>2.000000</td>\n",
       "      <td>0.000000</td>\n",
       "      <td>0.000000</td>\n",
       "      <td>2.000000</td>\n",
       "      <td>7.000000</td>\n",
       "      <td>-61.000000</td>\n",
       "      <td>29.000000</td>\n",
       "      <td>-42.000000</td>\n",
       "      <td>0.000000</td>\n",
       "    </tr>\n",
       "    <tr>\n",
       "      <th>25%</th>\n",
       "      <td>NaN</td>\n",
       "      <td>NaN</td>\n",
       "      <td>1.610613e+09</td>\n",
       "      <td>NaN</td>\n",
       "      <td>NaN</td>\n",
       "      <td>1949.000000</td>\n",
       "      <td>22014.000000</td>\n",
       "      <td>NaN</td>\n",
       "      <td>2.140029e+07</td>\n",
       "      <td>NaN</td>\n",
       "      <td>...</td>\n",
       "      <td>39.000000</td>\n",
       "      <td>18.000000</td>\n",
       "      <td>6.000000</td>\n",
       "      <td>3.000000</td>\n",
       "      <td>11.000000</td>\n",
       "      <td>18.000000</td>\n",
       "      <td>-9.000000</td>\n",
       "      <td>58.000000</td>\n",
       "      <td>5.000000</td>\n",
       "      <td>0.000000</td>\n",
       "    </tr>\n",
       "    <tr>\n",
       "      <th>50%</th>\n",
       "      <td>NaN</td>\n",
       "      <td>NaN</td>\n",
       "      <td>1.610613e+09</td>\n",
       "      <td>NaN</td>\n",
       "      <td>NaN</td>\n",
       "      <td>1970.000000</td>\n",
       "      <td>22015.000000</td>\n",
       "      <td>NaN</td>\n",
       "      <td>2.160015e+07</td>\n",
       "      <td>NaN</td>\n",
       "      <td>...</td>\n",
       "      <td>43.000000</td>\n",
       "      <td>22.000000</td>\n",
       "      <td>8.000000</td>\n",
       "      <td>5.000000</td>\n",
       "      <td>14.000000</td>\n",
       "      <td>20.000000</td>\n",
       "      <td>0.000000</td>\n",
       "      <td>64.000000</td>\n",
       "      <td>9.000000</td>\n",
       "      <td>0.000000</td>\n",
       "    </tr>\n",
       "    <tr>\n",
       "      <th>75%</th>\n",
       "      <td>NaN</td>\n",
       "      <td>NaN</td>\n",
       "      <td>1.610613e+09</td>\n",
       "      <td>NaN</td>\n",
       "      <td>NaN</td>\n",
       "      <td>1980.000000</td>\n",
       "      <td>22017.000000</td>\n",
       "      <td>NaN</td>\n",
       "      <td>2.180007e+07</td>\n",
       "      <td>NaN</td>\n",
       "      <td>...</td>\n",
       "      <td>48.000000</td>\n",
       "      <td>26.000000</td>\n",
       "      <td>10.000000</td>\n",
       "      <td>6.000000</td>\n",
       "      <td>16.000000</td>\n",
       "      <td>24.000000</td>\n",
       "      <td>9.000000</td>\n",
       "      <td>71.000000</td>\n",
       "      <td>16.000000</td>\n",
       "      <td>1.000000</td>\n",
       "    </tr>\n",
       "    <tr>\n",
       "      <th>max</th>\n",
       "      <td>NaN</td>\n",
       "      <td>NaN</td>\n",
       "      <td>1.610613e+09</td>\n",
       "      <td>NaN</td>\n",
       "      <td>NaN</td>\n",
       "      <td>2002.000000</td>\n",
       "      <td>42018.000000</td>\n",
       "      <td>NaN</td>\n",
       "      <td>1.621900e+09</td>\n",
       "      <td>NaN</td>\n",
       "      <td>...</td>\n",
       "      <td>81.000000</td>\n",
       "      <td>47.000000</td>\n",
       "      <td>21.000000</td>\n",
       "      <td>19.000000</td>\n",
       "      <td>35.000000</td>\n",
       "      <td>45.000000</td>\n",
       "      <td>61.000000</td>\n",
       "      <td>112.000000</td>\n",
       "      <td>61.000000</td>\n",
       "      <td>1.000000</td>\n",
       "    </tr>\n",
       "  </tbody>\n",
       "</table>\n",
       "<p>13 rows × 35 columns</p>\n",
       "</div>"
      ],
      "text/plain": [
       "               CITY              TEAM_NAME       TEAM_ID  NICKNAME  \\\n",
       "count         17779                  17779  1.777900e+04     17779   \n",
       "unique           29                     30           NaN        30   \n",
       "top     Los Angeles  Golden State Warriors           NaN  Warriors   \n",
       "freq            816                    688           NaN       688   \n",
       "first           NaN                    NaN           NaN       NaN   \n",
       "last            NaN                    NaN           NaN       NaN   \n",
       "mean            NaN                    NaN  1.610613e+09       NaN   \n",
       "std             NaN                    NaN  8.676904e+00       NaN   \n",
       "min             NaN                    NaN  1.610613e+09       NaN   \n",
       "25%             NaN                    NaN  1.610613e+09       NaN   \n",
       "50%             NaN                    NaN  1.610613e+09       NaN   \n",
       "75%             NaN                    NaN  1.610613e+09       NaN   \n",
       "max             NaN                    NaN  1.610613e+09       NaN   \n",
       "\n",
       "             STATE  YEAR_FOUNDED     SEASON_ID TEAM_ABBREVIATION  \\\n",
       "count        17779  17779.000000  17779.000000             17779   \n",
       "unique          23           NaN           NaN                30   \n",
       "top     California           NaN           NaN               GSW   \n",
       "freq          2068           NaN           NaN               688   \n",
       "first          NaN           NaN           NaN               NaN   \n",
       "last           NaN           NaN           NaN               NaN   \n",
       "mean           NaN   1969.512402  22692.567130               NaN   \n",
       "std            NaN     16.503036   5534.895754               NaN   \n",
       "min            NaN   1946.000000  12013.000000               NaN   \n",
       "25%            NaN   1949.000000  22014.000000               NaN   \n",
       "50%            NaN   1970.000000  22015.000000               NaN   \n",
       "75%            NaN   1980.000000  22017.000000               NaN   \n",
       "max            NaN   2002.000000  42018.000000               NaN   \n",
       "\n",
       "             GAME_ID            GAME_DATE  ...           REB           AST  \\\n",
       "count   1.777900e+04                17779  ...  17779.000000  17779.000000   \n",
       "unique           NaN                 1559  ...           NaN           NaN   \n",
       "top              NaN  2015-04-15 00:00:00  ...           NaN           NaN   \n",
       "freq             NaN                   28  ...           NaN           NaN   \n",
       "first            NaN  2013-03-09 00:00:00  ...           NaN           NaN   \n",
       "last             NaN  2019-07-15 00:00:00  ...           NaN           NaN   \n",
       "mean    1.183556e+08                  NaN  ...     43.215535     22.082851   \n",
       "std     3.655546e+08                  NaN  ...      6.709445      5.463359   \n",
       "min     1.130000e+07                  NaN  ...     17.000000      2.000000   \n",
       "25%     2.140029e+07                  NaN  ...     39.000000     18.000000   \n",
       "50%     2.160015e+07                  NaN  ...     43.000000     22.000000   \n",
       "75%     2.180007e+07                  NaN  ...     48.000000     26.000000   \n",
       "max     1.621900e+09                  NaN  ...     81.000000     47.000000   \n",
       "\n",
       "                 STL           BLK           TOV            PF    PLUS_MINUS  \\\n",
       "count   17779.000000  17779.000000  17779.000000  17779.000000  17779.000000   \n",
       "unique           NaN           NaN           NaN           NaN           NaN   \n",
       "top              NaN           NaN           NaN           NaN           NaN   \n",
       "freq             NaN           NaN           NaN           NaN           NaN   \n",
       "first            NaN           NaN           NaN           NaN           NaN   \n",
       "last             NaN           NaN           NaN           NaN           NaN   \n",
       "mean        7.785309      4.819225     13.963890     20.673885     -0.002666   \n",
       "std         2.962259      2.520843      4.024721      4.563555     13.889791   \n",
       "min         0.000000      0.000000      2.000000      7.000000    -61.000000   \n",
       "25%         6.000000      3.000000     11.000000     18.000000     -9.000000   \n",
       "50%         8.000000      5.000000     14.000000     20.000000      0.000000   \n",
       "75%        10.000000      6.000000     16.000000     24.000000      9.000000   \n",
       "max        21.000000     19.000000     35.000000     45.000000     61.000000   \n",
       "\n",
       "                  GM    POINT_DIFF           WIN  \n",
       "count   17779.000000  17779.000000  17779.000000  \n",
       "unique           NaN           NaN           NaN  \n",
       "top              NaN           NaN           NaN  \n",
       "freq             NaN           NaN           NaN  \n",
       "first            NaN           NaN           NaN  \n",
       "last             NaN           NaN           NaN  \n",
       "mean       64.479386     11.187525      0.499972  \n",
       "std         9.140930      8.254579      0.500014  \n",
       "min        29.000000    -42.000000      0.000000  \n",
       "25%        58.000000      5.000000      0.000000  \n",
       "50%        64.000000      9.000000      0.000000  \n",
       "75%        71.000000     16.000000      1.000000  \n",
       "max       112.000000     61.000000      1.000000  \n",
       "\n",
       "[13 rows x 35 columns]"
      ]
     },
     "execution_count": 24,
     "metadata": {},
     "output_type": "execute_result"
    }
   ],
   "source": [
    "NBA_Games.describe(include='all')"
   ]
  },
  {
   "cell_type": "markdown",
   "metadata": {},
   "source": [
    "#### We can summarize a single variable by specifying the variable.\n"
   ]
  },
  {
   "cell_type": "code",
   "execution_count": null,
   "metadata": {},
   "outputs": [
    {
     "data": {
      "text/plain": [
       "count    17779.000000\n",
       "mean       102.423421\n",
       "std         13.598390\n",
       "min         47.000000\n",
       "25%         93.000000\n",
       "50%        103.000000\n",
       "75%        112.000000\n",
       "max        168.000000\n",
       "Name: PTS, dtype: float64"
      ]
     },
     "execution_count": 25,
     "metadata": {},
     "output_type": "execute_result"
    }
   ],
   "source": [
    "NBA_Games['PTS'].describe()"
   ]
  },
  {
   "cell_type": "code",
   "execution_count": null,
   "metadata": {},
   "outputs": [
    {
     "data": {
      "text/plain": [
       "Index(['CITY', 'TEAM_NAME', 'TEAM_ID', 'NICKNAME', 'STATE', 'YEAR_FOUNDED',\n",
       "       'SEASON_ID', 'TEAM_ABBREVIATION', 'GAME_ID', 'GAME_DATE', 'MATCHUP',\n",
       "       'WL', 'MIN', 'PTS', 'FGM', 'FGA', 'FG_PCT', 'FG3M', 'FG3A', 'FG3_PCT',\n",
       "       'FTM', 'FTA', 'FT_PCT', 'OREB', 'DREB', 'REB', 'AST', 'STL', 'BLK',\n",
       "       'TOV', 'PF', 'PLUS_MINUS', 'GM', 'POINT_DIFF', 'WIN'],\n",
       "      dtype='object')"
      ]
     },
     "execution_count": 29,
     "metadata": {},
     "output_type": "execute_result"
    }
   ],
   "source": [
    "NBA_Games.columns"
   ]
  },
  {
   "cell_type": "markdown",
   "metadata": {},
   "source": [
    "#### We can also calculate individual statistics by using the mean(), median(), std().\n",
    "- Calculate mean of a numerical variable\n"
   ]
  },
  {
   "cell_type": "code",
   "execution_count": null,
   "metadata": {},
   "outputs": [
    {
     "data": {
      "text/plain": [
       "37.94403509758704"
      ]
     },
     "execution_count": 26,
     "metadata": {},
     "output_type": "execute_result"
    }
   ],
   "source": [
    "NBA_Games['FGM'].mean()"
   ]
  },
  {
   "cell_type": "markdown",
   "metadata": {},
   "source": [
    "- Calculate median of a numerical variable\n"
   ]
  },
  {
   "cell_type": "code",
   "execution_count": null,
   "metadata": {},
   "outputs": [
    {
     "data": {
      "text/plain": [
       "38.0"
      ]
     },
     "execution_count": 27,
     "metadata": {},
     "output_type": "execute_result"
    }
   ],
   "source": [
    "NBA_Games['FGM'].median()"
   ]
  },
  {
   "cell_type": "markdown",
   "metadata": {},
   "source": [
    "- Calculate standard deviation of a numerical variable\n"
   ]
  },
  {
   "cell_type": "code",
   "execution_count": null,
   "metadata": {},
   "outputs": [
    {
     "data": {
      "text/plain": [
       "5.646131461395677"
      ]
     },
     "execution_count": 28,
     "metadata": {},
     "output_type": "execute_result"
    }
   ],
   "source": [
    "NBA_Games['FGM'].std()"
   ]
  },
  {
   "cell_type": "markdown",
   "metadata": {},
   "source": [
    "## Self Test\n",
    "1. Find the mean of field goals attempted;\n",
    "\n",
    "2. Find the median of 3-point field goals made;\n",
    "\n",
    "3. Find the standard deviation of the number of rebounds\n"
   ]
  },
  {
   "cell_type": "code",
   "execution_count": null,
   "metadata": {},
   "outputs": [
    {
     "name": "stdout",
     "output_type": "stream",
     "text": [
      "Mean of Field Goals Attempted: 83.97412677878395\n"
     ]
    }
   ],
   "source": [
    "#Your Code Here\n",
    "mean_fga = NBA_Games['FGA'].mean()\n",
    "print(f\"Mean of Field Goals Attempted: {mean_fga}\")\n"
   ]
  },
  {
   "cell_type": "code",
   "execution_count": null,
   "metadata": {},
   "outputs": [
    {
     "name": "stdout",
     "output_type": "stream",
     "text": [
      "Median of 3-Point Field Goals Made: 9.0\n"
     ]
    }
   ],
   "source": [
    "median_fg3m = NBA_Games['FG3M'].median()\n",
    "print(f\"Median of 3-Point Field Goals Made: {median_fg3m}\")\n"
   ]
  },
  {
   "cell_type": "code",
   "execution_count": null,
   "metadata": {},
   "outputs": [
    {
     "name": "stdout",
     "output_type": "stream",
     "text": [
      "Standard Deviation of Rebounds: 6.709445109944509\n"
     ]
    }
   ],
   "source": [
    "std_reb = NBA_Games['REB'].std()\n",
    "print(f\"Standard Deviation of Rebounds: {std_reb}\")\n"
   ]
  },
  {
   "cell_type": "markdown",
   "metadata": {},
   "source": [
    "#### We can also calculate the summary statistics of a variable based on another variable, usually based on a different categorical variable.\n",
    "- Calculate means by groups using \"groupby\" command.\n"
   ]
  },
  {
   "cell_type": "code",
   "execution_count": null,
   "metadata": {},
   "outputs": [
    {
     "data": {
      "text/html": [
       "<div>\n",
       "<style scoped>\n",
       "    .dataframe tbody tr th:only-of-type {\n",
       "        vertical-align: middle;\n",
       "    }\n",
       "\n",
       "    .dataframe tbody tr th {\n",
       "        vertical-align: top;\n",
       "    }\n",
       "\n",
       "    .dataframe thead th {\n",
       "        text-align: right;\n",
       "    }\n",
       "</style>\n",
       "<table border=\"1\" class=\"dataframe\">\n",
       "  <thead>\n",
       "    <tr style=\"text-align: right;\">\n",
       "      <th></th>\n",
       "      <th>TEAM_ID</th>\n",
       "      <th>YEAR_FOUNDED</th>\n",
       "      <th>SEASON_ID</th>\n",
       "      <th>GAME_ID</th>\n",
       "      <th>MIN</th>\n",
       "      <th>PTS</th>\n",
       "      <th>FGM</th>\n",
       "      <th>FGA</th>\n",
       "      <th>FG_PCT</th>\n",
       "      <th>FG3M</th>\n",
       "      <th>...</th>\n",
       "      <th>REB</th>\n",
       "      <th>AST</th>\n",
       "      <th>STL</th>\n",
       "      <th>BLK</th>\n",
       "      <th>TOV</th>\n",
       "      <th>PF</th>\n",
       "      <th>PLUS_MINUS</th>\n",
       "      <th>GM</th>\n",
       "      <th>POINT_DIFF</th>\n",
       "      <th>WIN</th>\n",
       "    </tr>\n",
       "    <tr>\n",
       "      <th>WL</th>\n",
       "      <th></th>\n",
       "      <th></th>\n",
       "      <th></th>\n",
       "      <th></th>\n",
       "      <th></th>\n",
       "      <th></th>\n",
       "      <th></th>\n",
       "      <th></th>\n",
       "      <th></th>\n",
       "      <th></th>\n",
       "      <th></th>\n",
       "      <th></th>\n",
       "      <th></th>\n",
       "      <th></th>\n",
       "      <th></th>\n",
       "      <th></th>\n",
       "      <th></th>\n",
       "      <th></th>\n",
       "      <th></th>\n",
       "      <th></th>\n",
       "      <th></th>\n",
       "    </tr>\n",
       "  </thead>\n",
       "  <tbody>\n",
       "    <tr>\n",
       "      <th>L</th>\n",
       "      <td>1.610613e+09</td>\n",
       "      <td>1969.210461</td>\n",
       "      <td>22692.529246</td>\n",
       "      <td>1.184346e+08</td>\n",
       "      <td>239.146119</td>\n",
       "      <td>96.821485</td>\n",
       "      <td>35.995388</td>\n",
       "      <td>84.260855</td>\n",
       "      <td>0.427531</td>\n",
       "      <td>8.182790</td>\n",
       "      <td>...</td>\n",
       "      <td>41.500562</td>\n",
       "      <td>20.507312</td>\n",
       "      <td>7.388189</td>\n",
       "      <td>4.405287</td>\n",
       "      <td>14.407649</td>\n",
       "      <td>21.143982</td>\n",
       "      <td>-11.186862</td>\n",
       "      <td>60.826097</td>\n",
       "      <td>11.175028</td>\n",
       "      <td>0</td>\n",
       "    </tr>\n",
       "    <tr>\n",
       "      <th>W</th>\n",
       "      <td>1.610613e+09</td>\n",
       "      <td>1969.814377</td>\n",
       "      <td>22692.605017</td>\n",
       "      <td>1.182767e+08</td>\n",
       "      <td>239.168748</td>\n",
       "      <td>108.025987</td>\n",
       "      <td>39.892901</td>\n",
       "      <td>83.687366</td>\n",
       "      <td>0.477441</td>\n",
       "      <td>9.892564</td>\n",
       "      <td>...</td>\n",
       "      <td>44.930701</td>\n",
       "      <td>23.658567</td>\n",
       "      <td>8.182473</td>\n",
       "      <td>5.233210</td>\n",
       "      <td>13.520081</td>\n",
       "      <td>20.203735</td>\n",
       "      <td>11.182788</td>\n",
       "      <td>68.133086</td>\n",
       "      <td>11.200022</td>\n",
       "      <td>1</td>\n",
       "    </tr>\n",
       "  </tbody>\n",
       "</table>\n",
       "<p>2 rows × 27 columns</p>\n",
       "</div>"
      ],
      "text/plain": [
       "         TEAM_ID  YEAR_FOUNDED     SEASON_ID       GAME_ID         MIN  \\\n",
       "WL                                                                       \n",
       "L   1.610613e+09   1969.210461  22692.529246  1.184346e+08  239.146119   \n",
       "W   1.610613e+09   1969.814377  22692.605017  1.182767e+08  239.168748   \n",
       "\n",
       "           PTS        FGM        FGA    FG_PCT      FG3M  ...        REB  \\\n",
       "WL                                                        ...              \n",
       "L    96.821485  35.995388  84.260855  0.427531  8.182790  ...  41.500562   \n",
       "W   108.025987  39.892901  83.687366  0.477441  9.892564  ...  44.930701   \n",
       "\n",
       "          AST       STL       BLK        TOV         PF  PLUS_MINUS  \\\n",
       "WL                                                                    \n",
       "L   20.507312  7.388189  4.405287  14.407649  21.143982  -11.186862   \n",
       "W   23.658567  8.182473  5.233210  13.520081  20.203735   11.182788   \n",
       "\n",
       "           GM  POINT_DIFF  WIN  \n",
       "WL                              \n",
       "L   60.826097   11.175028    0  \n",
       "W   68.133086   11.200022    1  \n",
       "\n",
       "[2 rows x 27 columns]"
      ]
     },
     "execution_count": 33,
     "metadata": {},
     "output_type": "execute_result"
    }
   ],
   "source": [
    "NBA_Games.groupby(['WL']).mean()"
   ]
  },
  {
   "cell_type": "markdown",
   "metadata": {},
   "source": [
    "- Calculate the mean of a single (points in this example) variable by group.\n"
   ]
  },
  {
   "cell_type": "code",
   "execution_count": null,
   "metadata": {},
   "outputs": [
    {
     "data": {
      "text/plain": [
       "WL\n",
       "L     96.821485\n",
       "W    108.025987\n",
       "Name: PTS, dtype: float64"
      ]
     },
     "execution_count": 34,
     "metadata": {},
     "output_type": "execute_result"
    }
   ],
   "source": [
    "NBA_Games.groupby(['WL'])['PTS'].mean()"
   ]
  },
  {
   "cell_type": "markdown",
   "metadata": {},
   "source": [
    "#### Summarize date variable\n",
    "- We can find some basic statistics of the date variable. The describe() function returns the number of unique value of the date variable, the most frequently appeared date, i.e., the date with most number of games, and the first and the last dates."
   ]
  },
  {
   "cell_type": "code",
   "execution_count": null,
   "metadata": {},
   "outputs": [
    {
     "name": "stderr",
     "output_type": "stream",
     "text": [
      "c:\\Users\\Dell\\anaconda3\\envs\\hands_on_ml_env\\lib\\site-packages\\ipykernel_launcher.py:1: FutureWarning: Treating datetime data as categorical rather than numeric in `.describe` is deprecated and will be removed in a future version of pandas. Specify `datetime_is_numeric=True` to silence this warning and adopt the future behavior now.\n",
      "  \"\"\"Entry point for launching an IPython kernel.\n"
     ]
    },
    {
     "data": {
      "text/plain": [
       "count                   17779\n",
       "unique                   1559\n",
       "top       2015-04-15 00:00:00\n",
       "freq                       28\n",
       "first     2013-03-09 00:00:00\n",
       "last      2019-07-15 00:00:00\n",
       "Name: GAME_DATE, dtype: object"
      ]
     },
     "execution_count": 35,
     "metadata": {},
     "output_type": "execute_result"
    }
   ],
   "source": [
    "NBA_Games['GAME_DATE'].describe()"
   ]
  },
  {
   "cell_type": "markdown",
   "metadata": {},
   "source": [
    "## Visualizing data\n",
    "### Histogram \n",
    "-- We can visualize the distribution of a variable using a histogram.\n"
   ]
  },
  {
   "cell_type": "code",
   "execution_count": null,
   "metadata": {},
   "outputs": [
    {
     "data": {
      "text/plain": [
       "array([[<AxesSubplot:title={'center':'PTS'}>]], dtype=object)"
      ]
     },
     "execution_count": 36,
     "metadata": {},
     "output_type": "execute_result"
    },
    {
     "data": {
      "image/png": "[encoded data removed]",
      "text/plain": [
       "<Figure size 432x288 with 1 Axes>"
      ]
     },
     "metadata": {
      "needs_background": "light"
     },
     "output_type": "display_data"
    }
   ],
   "source": [
    "NBA_Games.hist(column='PTS')"
   ]
  },
  {
   "cell_type": "markdown",
   "metadata": {},
   "source": [
    "#### We can specify the number of bins in a histogram; different numbers of bins may give us slightly different graphs.\n"
   ]
  },
  {
   "cell_type": "code",
   "execution_count": null,
   "metadata": {},
   "outputs": [
    {
     "data": {
      "text/plain": [
       "array([[<AxesSubplot:title={'center':'PTS'}>]], dtype=object)"
      ]
     },
     "execution_count": 37,
     "metadata": {},
     "output_type": "execute_result"
    },
    {
     "data": {
      "image/png": "[encoded data removed]",
      "text/plain": [
       "<Figure size 432x288 with 1 Axes>"
      ]
     },
     "metadata": {
      "needs_background": "light"
     },
     "output_type": "display_data"
    }
   ],
   "source": [
    "NBA_Games.hist(column='PTS', bins=20)"
   ]
  },
  {
   "cell_type": "markdown",
   "metadata": {},
   "source": [
    "#### For visual appeal, sometimes it may be helpful to add space between bins.\n",
    "_For example, we can narrow the bin to 0.9 width._\n"
   ]
  },
  {
   "cell_type": "code",
   "execution_count": 38,
   "metadata": {},
   "outputs": [
    {
     "data": {
      "text/plain": [
       "array([[<AxesSubplot:title={'center':'PTS'}>]], dtype=object)"
      ]
     },
     "execution_count": 38,
     "metadata": {},
     "output_type": "execute_result"
    },
    {
     "data": {
      "image/png": "[encoded data removed]",
      "text/plain": [
       "<Figure size 432x288 with 1 Axes>"
      ]
     },
     "metadata": {
      "needs_background": "light"
     },
     "output_type": "display_data"
    }
   ],
   "source": [
    "NBA_Games.hist(column='PTS', bins=20, rwidth=0.9)"
   ]
  },
  {
   "cell_type": "markdown",
   "metadata": {},
   "source": [
    "### Save edited dataset\n"
   ]
  },
  {
   "cell_type": "code",
   "execution_count": 39,
   "metadata": {},
   "outputs": [],
   "source": [
    "NBA_Games.to_csv(\"../../Data/Week 2/NBA_Games2.csv\", index=False)"
   ]
  },
  {
   "cell_type": "code",
   "execution_count": null,
   "metadata": {},
   "outputs": [],
   "source": []
  }
 ],
 "metadata": {
  "kernelspec": {
   "display_name": "hands_on_ml_env",
   "language": "python",
   "name": "python3"
  },
  "language_info": {
   "codemirror_mode": {
    "name": "ipython",
    "version": 3
   },
   "file_extension": ".py",
   "mimetype": "text/x-python",
   "name": "python",
   "nbconvert_exporter": "python",
   "pygments_lexer": "ipython3",
   "version": "3.6.13"
  }
 },
 "nbformat": 4,
 "nbformat_minor": 2
}
