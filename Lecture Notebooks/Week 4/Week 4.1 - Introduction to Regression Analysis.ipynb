{
 "cells": [
  {
   "cell_type": "markdown",
   "metadata": {},
   "source": [
    "### Import useful libraries\n"
   ]
  },
  {
   "cell_type": "code",
   "execution_count": 29,
   "metadata": {},
   "outputs": [],
   "source": [
    "import pandas as pd\n",
    "import numpy as np\n",
    "import seaborn as sns\n",
    "import matplotlib.pyplot as plt"
   ]
  },
  {
   "cell_type": "markdown",
   "metadata": {},
   "source": [
    "### In this section, we will use the NHL_Team_Stats dataset we compiled and cleaned up in the assignment for Week 2. \n",
    "Import both NHL_Team_Stats and NHL_Team_R_Stats data from Week 2 assignment into Python."
   ]
  },
  {
   "cell_type": "code",
   "execution_count": 30,
   "metadata": {},
   "outputs": [
    {
     "data": {
      "text/html": [
       "<div>\n",
       "<style scoped>\n",
       "    .dataframe tbody tr th:only-of-type {\n",
       "        vertical-align: middle;\n",
       "    }\n",
       "\n",
       "    .dataframe tbody tr th {\n",
       "        vertical-align: top;\n",
       "    }\n",
       "\n",
       "    .dataframe thead th {\n",
       "        text-align: right;\n",
       "    }\n",
       "</style>\n",
       "<table border=\"1\" class=\"dataframe\">\n",
       "  <thead>\n",
       "    <tr style=\"text-align: right;\">\n",
       "      <th></th>\n",
       "      <th>tricode</th>\n",
       "      <th>pp</th>\n",
       "      <th>pk</th>\n",
       "      <th>ppgf</th>\n",
       "      <th>competition_name</th>\n",
       "      <th>tid</th>\n",
       "      <th>type</th>\n",
       "      <th>win</th>\n",
       "      <th>goals_for</th>\n",
       "      <th>goals_against</th>\n",
       "      <th>game_count</th>\n",
       "      <th>team_name</th>\n",
       "      <th>win_pct</th>\n",
       "      <th>avg_gf</th>\n",
       "      <th>avg_ga</th>\n",
       "    </tr>\n",
       "  </thead>\n",
       "  <tbody>\n",
       "    <tr>\n",
       "      <th>0</th>\n",
       "      <td>ANA</td>\n",
       "      <td>35</td>\n",
       "      <td>27</td>\n",
       "      <td>9.0</td>\n",
       "      <td>2010 NHL Playoff</td>\n",
       "      <td>21</td>\n",
       "      <td>3</td>\n",
       "      <td>2</td>\n",
       "      <td>19.0</td>\n",
       "      <td>22.0</td>\n",
       "      <td>6</td>\n",
       "      <td>Anaheim Ducks</td>\n",
       "      <td>0.333333</td>\n",
       "      <td>3.166667</td>\n",
       "      <td>3.666667</td>\n",
       "    </tr>\n",
       "    <tr>\n",
       "      <th>1</th>\n",
       "      <td>BOS</td>\n",
       "      <td>126</td>\n",
       "      <td>116</td>\n",
       "      <td>22.0</td>\n",
       "      <td>2010 NHL Playoff</td>\n",
       "      <td>20</td>\n",
       "      <td>3</td>\n",
       "      <td>16</td>\n",
       "      <td>76.0</td>\n",
       "      <td>48.0</td>\n",
       "      <td>24</td>\n",
       "      <td>Boston Bruins</td>\n",
       "      <td>0.666667</td>\n",
       "      <td>3.166667</td>\n",
       "      <td>2.000000</td>\n",
       "    </tr>\n",
       "    <tr>\n",
       "      <th>2</th>\n",
       "      <td>BUF</td>\n",
       "      <td>48</td>\n",
       "      <td>46</td>\n",
       "      <td>13.0</td>\n",
       "      <td>2010 NHL Playoff</td>\n",
       "      <td>17</td>\n",
       "      <td>3</td>\n",
       "      <td>3</td>\n",
       "      <td>17.0</td>\n",
       "      <td>22.0</td>\n",
       "      <td>7</td>\n",
       "      <td>Buffalo Sabres</td>\n",
       "      <td>0.428571</td>\n",
       "      <td>2.428571</td>\n",
       "      <td>3.142857</td>\n",
       "    </tr>\n",
       "    <tr>\n",
       "      <th>3</th>\n",
       "      <td>CHI</td>\n",
       "      <td>27</td>\n",
       "      <td>39</td>\n",
       "      <td>6.0</td>\n",
       "      <td>2010 NHL Playoff</td>\n",
       "      <td>6</td>\n",
       "      <td>3</td>\n",
       "      <td>3</td>\n",
       "      <td>22.0</td>\n",
       "      <td>16.0</td>\n",
       "      <td>7</td>\n",
       "      <td>Chicago Blackhawks</td>\n",
       "      <td>0.428571</td>\n",
       "      <td>3.142857</td>\n",
       "      <td>2.285714</td>\n",
       "    </tr>\n",
       "    <tr>\n",
       "      <th>4</th>\n",
       "      <td>DET</td>\n",
       "      <td>59</td>\n",
       "      <td>55</td>\n",
       "      <td>6.0</td>\n",
       "      <td>2010 NHL Playoff</td>\n",
       "      <td>18</td>\n",
       "      <td>3</td>\n",
       "      <td>7</td>\n",
       "      <td>36.0</td>\n",
       "      <td>27.0</td>\n",
       "      <td>11</td>\n",
       "      <td>Detroit Red Wings</td>\n",
       "      <td>0.636364</td>\n",
       "      <td>3.272727</td>\n",
       "      <td>2.454545</td>\n",
       "    </tr>\n",
       "  </tbody>\n",
       "</table>\n",
       "</div>"
      ],
      "text/plain": [
       "  tricode   pp   pk  ppgf  competition_name  tid  type  win  goals_for  \\\n",
       "0     ANA   35   27   9.0  2010 NHL Playoff   21     3    2       19.0   \n",
       "1     BOS  126  116  22.0  2010 NHL Playoff   20     3   16       76.0   \n",
       "2     BUF   48   46  13.0  2010 NHL Playoff   17     3    3       17.0   \n",
       "3     CHI   27   39   6.0  2010 NHL Playoff    6     3    3       22.0   \n",
       "4     DET   59   55   6.0  2010 NHL Playoff   18     3    7       36.0   \n",
       "\n",
       "   goals_against  game_count           team_name   win_pct    avg_gf    avg_ga  \n",
       "0           22.0           6       Anaheim Ducks  0.333333  3.166667  3.666667  \n",
       "1           48.0          24       Boston Bruins  0.666667  3.166667  2.000000  \n",
       "2           22.0           7      Buffalo Sabres  0.428571  2.428571  3.142857  \n",
       "3           16.0           7  Chicago Blackhawks  0.428571  3.142857  2.285714  \n",
       "4           27.0          11   Detroit Red Wings  0.636364  3.272727  2.454545  "
      ]
     },
     "execution_count": 30,
     "metadata": {},
     "output_type": "execute_result"
    }
   ],
   "source": [
    "NHL_Team_Stats=pd.read_csv(\"../../Data/Week 4/NHL_Team_Stats.csv\")\n",
    "NHL_Team_R_Stats=pd.read_csv(\"../../Data/Week 4/NHL_Team_R_Stats.csv\")\n",
    "NHL_Team_Stats.head()"
   ]
  },
  {
   "cell_type": "markdown",
   "metadata": {
    "scrolled": false
   },
   "source": [
    "## Regression analyses in Python\n",
    "#### To run regressions in Python, we will introduce a new library, “statsmodels,” which is a Python module that provides classes and functions for the estimation of many different statistical models, as well as for conducting statistical tests, and statistical data exploration."
   ]
  },
  {
   "cell_type": "code",
   "execution_count": 31,
   "metadata": {},
   "outputs": [],
   "source": [
    "import statsmodels.formula.api as sm"
   ]
  },
  {
   "cell_type": "markdown",
   "metadata": {},
   "source": [
    "At the end of the assignment in week 2, we observed that there is a linear relationship between total goals for and winning percentage. Let’s run a regression where winning percentage is the dependent variable and total goals for is the explanatory variable. \n",
    "- We can use the command “ols()” to indicate an ordinary least squared regression. \n",
    "- The “fit()” function would allow us to obtain the estimated coefficient of our regression model."
   ]
  },
  {
   "cell_type": "code",
   "execution_count": 32,
   "metadata": {},
   "outputs": [
    {
     "data": {
      "image/png": "[encoded data removed]",
      "text/plain": [
       "<Figure size 432x288 with 1 Axes>"
      ]
     },
     "metadata": {
      "needs_background": "light"
     },
     "output_type": "display_data"
    }
   ],
   "source": [
    "sns.regplot(y = 'win_pct',  x = 'goals_for', data= NHL_Team_R_Stats)\n",
    "plt.show()"
   ]
  },
  {
   "cell_type": "code",
   "execution_count": 33,
   "metadata": {},
   "outputs": [],
   "source": [
    "reg1 = sm.ols(formula = 'win_pct ~ goals_for', data= NHL_Team_R_Stats).fit()"
   ]
  },
  {
   "cell_type": "markdown",
   "metadata": {},
   "source": [
    "After we run a regression, we can use the “summary()” command to obtain a number of statistics from our regression model.\n"
   ]
  },
  {
   "cell_type": "code",
   "execution_count": 34,
   "metadata": {},
   "outputs": [
    {
     "name": "stdout",
     "output_type": "stream",
     "text": [
      "                            OLS Regression Results                            \n",
      "==============================================================================\n",
      "Dep. Variable:                win_pct   R-squared:                       0.591\n",
      "Model:                            OLS   Adj. R-squared:                  0.588\n",
      "Method:                 Least Squares   F-statistic:                     258.2\n",
      "Date:                Sun, 15 Dec 2024   Prob (F-statistic):           1.52e-36\n",
      "Time:                        16:23:49   Log-Likelihood:                 253.82\n",
      "No. Observations:                 181   AIC:                            -503.6\n",
      "Df Residuals:                     179   BIC:                            -497.3\n",
      "Df Model:                           1                                         \n",
      "Covariance Type:            nonrobust                                         \n",
      "==============================================================================\n",
      "                 coef    std err          t      P>|t|      [0.025      0.975]\n",
      "------------------------------------------------------------------------------\n",
      "Intercept     -0.1781      0.042     -4.222      0.000      -0.261      -0.095\n",
      "goals_for      0.0030      0.000     16.067      0.000       0.003       0.003\n",
      "==============================================================================\n",
      "Omnibus:                        0.122   Durbin-Watson:                   1.709\n",
      "Prob(Omnibus):                  0.941   Jarque-Bera (JB):                0.197\n",
      "Skew:                          -0.060   Prob(JB):                        0.906\n",
      "Kurtosis:                       2.891   Cond. No.                     2.18e+03\n",
      "==============================================================================\n",
      "\n",
      "Notes:\n",
      "[1] Standard Errors assume that the covariance matrix of the errors is correctly specified.\n",
      "[2] The condition number is large, 2.18e+03. This might indicate that there are\n",
      "strong multicollinearity or other numerical problems.\n"
     ]
    }
   ],
   "source": [
    "print(reg1.summary())"
   ]
  },
  {
   "cell_type": "markdown",
   "metadata": {},
   "source": [
    "### Interpreting results\n",
    "From the result table, we can see that the dependent variable is winning percentage (\"win_pct\") and there are 181 observations in this regression. The independent variable is the number of goals for the team (\"goals_for\"). An intercept is also included in the regression. \n",
    "\n",
    "The estimated coefficient on goals_for is 0.003. This means that an additional goal scored by the team will increase the team's winning percentage of 0.003. The estimate on the intercept is -0.1781. This means that without scoring any goal, the winning percentage for the team would be -0.1781. As we know, the winning percentage cannot be negative. The reason we get a negative estimate on the intercept is because in our sample, there is not a single game where a team scored zero goals.\n",
    "\n",
    "- t-statistics and p-value\n",
    "\n",
    "t-statistics is defined as the estimated coefficient divided by its standard error. If the estimated coefficient is large compared to its standard error, then it is likely to be different than zero. \n",
    "\n",
    "p-value is defined as the probability of obtaining a result as extreme as the result actually observed, in this case, the t-statistics we have in the regression analysis. Comparing the t-statistics with the student t distribution, if 95% of the t distribution is closer to the mean than the t-statistics, we will have p-value of 0.05, which is also referred to a 5% significance level. A p-value no more than 0.05 (5%) is generally accepted in rejecting the null hypothesis. We say that the estimated coefficient is statistically significant at the 5% level.\n",
    "\n",
    "In this regression, the p-value of the goals_for variable is 0.000 which suggests that the estimate is statistically significant at the 1% level.\n",
    "\n",
    "\n",
    "- R-squared\n",
    "\n",
    "\n",
    "R-squared measures the goodness of fit of the model. The R-squared of a regression is the fraction of the variation in the dependent variable that is accounted for by the independent variables. R-squared is always between 0 and 1. The larger the R-squared, the more variation is accounted for by the regression model.\n",
    "\n",
    "In this regression, the R-squared is 0.591 which means that approximately 59.1% of the variation of the winning percentage is accounted for by the model."
   ]
  },
  {
   "cell_type": "markdown",
   "metadata": {},
   "source": [
    "#### Let's explore the relationship between goals_against and winning percentage in the regular season.\n",
    "- Create a scatter plot to depict the relationship between total goals against and winning percentage without seperating the data by competition"
   ]
  },
  {
   "cell_type": "code",
   "execution_count": 35,
   "metadata": {},
   "outputs": [
    {
     "data": {
      "text/plain": [
       "Text(0.5, 1.0, 'Relationship between Goals against and Winning Percentage')"
      ]
     },
     "execution_count": 35,
     "metadata": {},
     "output_type": "execute_result"
    },
    {
     "data": {
      "image/png": "[encoded data removed]",
      "text/plain": [
       "<Figure size 360x360 with 1 Axes>"
      ]
     },
     "metadata": {
      "needs_background": "light"
     },
     "output_type": "display_data"
    }
   ],
   "source": [
    "import seaborn as sns\n",
    "sns.lmplot(x='goals_against', y='win_pct',  data=NHL_Team_R_Stats)\n",
    "plt.xlabel('Total Goals against')\n",
    "plt.ylabel('Winning Percentage')\n",
    "plt.title(\"Relationship between Goals against and Winning Percentage\", fontsize=20)"
   ]
  },
  {
   "cell_type": "markdown",
   "metadata": {},
   "source": [
    "- Calculate the correlation coefficient between goals against and winning percentage\n"
   ]
  },
  {
   "cell_type": "code",
   "execution_count": 36,
   "metadata": {},
   "outputs": [
    {
     "data": {
      "text/plain": [
       "-0.7445117715217242"
      ]
     },
     "execution_count": 36,
     "metadata": {},
     "output_type": "execute_result"
    }
   ],
   "source": [
    "NHL_Team_R_Stats['goals_against'].corr(NHL_Team_R_Stats['win_pct'])"
   ]
  },
  {
   "cell_type": "markdown",
   "metadata": {},
   "source": [
    "- Run a simple linear regression to find NHL team winning percentage as a function of total goals against\n"
   ]
  },
  {
   "cell_type": "code",
   "execution_count": 37,
   "metadata": {},
   "outputs": [
    {
     "name": "stdout",
     "output_type": "stream",
     "text": [
      "                            OLS Regression Results                            \n",
      "==============================================================================\n",
      "Dep. Variable:                win_pct   R-squared:                       0.554\n",
      "Model:                            OLS   Adj. R-squared:                  0.552\n",
      "Method:                 Least Squares   F-statistic:                     222.6\n",
      "Date:                Sun, 15 Dec 2024   Prob (F-statistic):           3.09e-33\n",
      "Time:                        16:23:49   Log-Likelihood:                 246.15\n",
      "No. Observations:                 181   AIC:                            -488.3\n",
      "Df Residuals:                     179   BIC:                            -481.9\n",
      "Df Model:                           1                                         \n",
      "Covariance Type:            nonrobust                                         \n",
      "=================================================================================\n",
      "                    coef    std err          t      P>|t|      [0.025      0.975]\n",
      "---------------------------------------------------------------------------------\n",
      "Intercept         1.1651      0.045     25.839      0.000       1.076       1.254\n",
      "goals_against    -0.0029      0.000    -14.920      0.000      -0.003      -0.003\n",
      "==============================================================================\n",
      "Omnibus:                        0.581   Durbin-Watson:                   1.647\n",
      "Prob(Omnibus):                  0.748   Jarque-Bera (JB):                0.688\n",
      "Skew:                          -0.125   Prob(JB):                        0.709\n",
      "Kurtosis:                       2.830   Cond. No.                     2.23e+03\n",
      "==============================================================================\n",
      "\n",
      "Notes:\n",
      "[1] Standard Errors assume that the covariance matrix of the errors is correctly specified.\n",
      "[2] The condition number is large, 2.23e+03. This might indicate that there are\n",
      "strong multicollinearity or other numerical problems.\n"
     ]
    }
   ],
   "source": [
    "reg2 = sm.ols(formula = 'win_pct ~ goals_against', data= NHL_Team_R_Stats).fit()\n",
    "print(reg2.summary())"
   ]
  },
  {
   "cell_type": "markdown",
   "metadata": {},
   "source": [
    "## Self Test - 1\n",
    "1. Use the regular season data, create a scatterplot and a regression line to demonstrate the relationship between average goals for per game and winning percentage.\n",
    "2. Run a linear regression where winning percentage is the dependent variable and average goals for is the explanatory variable\n",
    "3. Interpret the coefficient on the average goals for, is this estimate statistically significant?\n",
    "4. How well does this regression do in fitting the data?"
   ]
  },
  {
   "cell_type": "code",
   "execution_count": 38,
   "metadata": {},
   "outputs": [
    {
     "data": {
      "image/png": "[encoded data removed]",
      "text/plain": [
       "<Figure size 432x288 with 1 Axes>"
      ]
     },
     "metadata": {
      "needs_background": "light"
     },
     "output_type": "display_data"
    },
    {
     "name": "stdout",
     "output_type": "stream",
     "text": [
      "                            OLS Regression Results                            \n",
      "==============================================================================\n",
      "Dep. Variable:                win_pct   R-squared:                       0.573\n",
      "Model:                            OLS   Adj. R-squared:                  0.571\n",
      "Method:                 Least Squares   F-statistic:                     240.1\n",
      "Date:                Sun, 15 Dec 2024   Prob (F-statistic):           6.66e-35\n",
      "Time:                        16:23:49   Log-Likelihood:                 250.01\n",
      "No. Observations:                 181   AIC:                            -496.0\n",
      "Df Residuals:                     179   BIC:                            -489.6\n",
      "Df Model:                           1                                         \n",
      "Covariance Type:            nonrobust                                         \n",
      "==============================================================================\n",
      "                 coef    std err          t      P>|t|      [0.025      0.975]\n",
      "------------------------------------------------------------------------------\n",
      "Intercept     -0.1804      0.044     -4.111      0.000      -0.267      -0.094\n",
      "avg_gf         0.2378      0.015     15.496      0.000       0.208       0.268\n",
      "==============================================================================\n",
      "Omnibus:                        1.181   Durbin-Watson:                   1.710\n",
      "Prob(Omnibus):                  0.554   Jarque-Bera (JB):                1.272\n",
      "Skew:                          -0.149   Prob(JB):                        0.529\n",
      "Kurtosis:                       2.718   Cond. No.                         31.0\n",
      "==============================================================================\n",
      "\n",
      "Notes:\n",
      "[1] Standard Errors assume that the covariance matrix of the errors is correctly specified.\n"
     ]
    }
   ],
   "source": [
    "#Your Code Here\n",
    "\n",
    "sns.regplot(y = 'win_pct',  x = 'avg_gf', data= NHL_Team_R_Stats)\n",
    "plt.show()\n",
    "reg3 = sm.ols(formula = 'win_pct ~ avg_gf', data= NHL_Team_R_Stats).fit()\n",
    "print(reg3.summary())\n"
   ]
  },
  {
   "cell_type": "markdown",
   "metadata": {},
   "source": [
    "### Multiple Regression -  more than one explanatory variables.\n",
    "Often times, the outcome variable of interest is affected by multiple factors. We can specify a regression equation where the outcome is function of more than one explanatory variables.\n",
    "\n",
    "Let's run a linear regression where winning percentage is a function of both average number of goals for per game and average number of goals against per game."
   ]
  },
  {
   "cell_type": "code",
   "execution_count": 39,
   "metadata": {},
   "outputs": [
    {
     "name": "stdout",
     "output_type": "stream",
     "text": [
      "                            OLS Regression Results                            \n",
      "==============================================================================\n",
      "Dep. Variable:                win_pct   R-squared:                       0.917\n",
      "Model:                            OLS   Adj. R-squared:                  0.916\n",
      "Method:                 Least Squares   F-statistic:                     985.1\n",
      "Date:                Sun, 15 Dec 2024   Prob (F-statistic):           5.39e-97\n",
      "Time:                        16:23:49   Log-Likelihood:                 398.42\n",
      "No. Observations:                 181   AIC:                            -790.8\n",
      "Df Residuals:                     178   BIC:                            -781.2\n",
      "Df Model:                           2                                         \n",
      "Covariance Type:            nonrobust                                         \n",
      "==============================================================================\n",
      "                 coef    std err          t      P>|t|      [0.025      0.975]\n",
      "------------------------------------------------------------------------------\n",
      "Intercept      0.4862      0.031     15.559      0.000       0.425       0.548\n",
      "avg_gf         0.1909      0.007     27.295      0.000       0.177       0.205\n",
      "avg_ga        -0.1874      0.007    -27.193      0.000      -0.201      -0.174\n",
      "==============================================================================\n",
      "Omnibus:                        1.055   Durbin-Watson:                   1.989\n",
      "Prob(Omnibus):                  0.590   Jarque-Bera (JB):                0.969\n",
      "Skew:                           0.179   Prob(JB):                        0.616\n",
      "Kurtosis:                       2.974   Cond. No.                         66.6\n",
      "==============================================================================\n",
      "\n",
      "Notes:\n",
      "[1] Standard Errors assume that the covariance matrix of the errors is correctly specified.\n"
     ]
    }
   ],
   "source": [
    "reg4 = sm.ols(formula = 'win_pct ~ avg_gf+avg_ga', data= NHL_Team_R_Stats).fit()\n",
    "print(reg4.summary())"
   ]
  },
  {
   "cell_type": "markdown",
   "metadata": {},
   "source": [
    "_Interpret the coefficients_\n",
    "\n",
    "- Average goals for: for the same average number of goals against, scoring one more goal per game will increase the winning percentage by 0.1909 (19.09%)\n",
    "- Average goals against: having the same average number of goals for per game, conceding one more goal per game will decrease the winning percentage by 0.1874 (18.74%)"
   ]
  },
  {
   "cell_type": "markdown",
   "metadata": {},
   "source": [
    "### Regression with categorical variables\n",
    "In the above regressions, we focus on using quantitative variables as explanatory variables. We could also include categorical variables as explanatory variables in the regression as well.\n",
    "\n",
    "Essentially, when we incorporate a categorical variable, we first transform it into dummy variable(s) that carry value of either 0 or 1. We then use the dummy variable(s) into our regression.\n",
    "\n",
    "Let's consider the dataset that includes both regular season and playoff. In this dataset, the variable \"type\" captures whether a game is a regular season game or playoff game. type=2 means it is regular season competition while type=3 means it is a playoff game.\n",
    "\n",
    "_We will first convert variable \"type\" into categorical variable._"
   ]
  },
  {
   "cell_type": "code",
   "execution_count": 40,
   "metadata": {},
   "outputs": [],
   "source": [
    "NHL_Team_Stats['type']=NHL_Team_Stats['type'].astype(object)"
   ]
  },
  {
   "cell_type": "markdown",
   "metadata": {},
   "source": [
    "Now we can run a regression where winning percentage is a function of average goals for and the type of competition. "
   ]
  },
  {
   "cell_type": "code",
   "execution_count": 41,
   "metadata": {},
   "outputs": [
    {
     "name": "stdout",
     "output_type": "stream",
     "text": [
      "                            OLS Regression Results                            \n",
      "==============================================================================\n",
      "Dep. Variable:                win_pct   R-squared:                       0.426\n",
      "Model:                            OLS   Adj. R-squared:                  0.423\n",
      "Method:                 Least Squares   F-statistic:                     136.0\n",
      "Date:                Sun, 15 Dec 2024   Prob (F-statistic):           6.88e-45\n",
      "Time:                        16:23:49   Log-Likelihood:                 320.28\n",
      "No. Observations:                 369   AIC:                            -634.6\n",
      "Df Residuals:                     366   BIC:                            -622.8\n",
      "Df Model:                           2                                         \n",
      "Covariance Type:            nonrobust                                         \n",
      "==============================================================================\n",
      "                 coef    std err          t      P>|t|      [0.025      0.975]\n",
      "------------------------------------------------------------------------------\n",
      "Intercept     -0.0197      0.035     -0.558      0.577      -0.089       0.050\n",
      "type[T.3]     -0.0160      0.012     -1.344      0.180      -0.039       0.007\n",
      "avg_gf         0.1818      0.012     14.914      0.000       0.158       0.206\n",
      "==============================================================================\n",
      "Omnibus:                       63.422   Durbin-Watson:                   1.880\n",
      "Prob(Omnibus):                  0.000   Jarque-Bera (JB):              156.332\n",
      "Skew:                          -0.843   Prob(JB):                     1.13e-34\n",
      "Kurtosis:                       5.707   Cond. No.                         20.9\n",
      "==============================================================================\n",
      "\n",
      "Notes:\n",
      "[1] Standard Errors assume that the covariance matrix of the errors is correctly specified.\n"
     ]
    }
   ],
   "source": [
    "reg5 = sm.ols(formula = 'win_pct ~ avg_gf+type', data= NHL_Team_Stats).fit()\n",
    "print(reg5.summary())"
   ]
  },
  {
   "cell_type": "markdown",
   "metadata": {},
   "source": [
    "A dummy variable = 1 if type= 3 (playoff) and = 0 if type = 2 (regular season) is included in the regression.\n",
    "\n",
    "_Interpretation: with the same average goals for per game, the winning percentage in the playoff games is 0.0160 (1.6%) lower than the winning percentage in the regular season games._\n"
   ]
  },
  {
   "cell_type": "markdown",
   "metadata": {},
   "source": [
    "## Self Test - 2\n",
    "1. Run a regression where winning percentage is a function of average goals for, average goals against, and control for the different competitions.\n",
    "\n",
    "2. Interpret the coefficients."
   ]
  },
  {
   "cell_type": "code",
   "execution_count": 42,
   "metadata": {},
   "outputs": [
    {
     "data": {
      "text/plain": [
       "Index(['tricode', 'pp', 'pk', 'ppgf', 'competition_name', 'tid', 'type', 'win',\n",
       "       'goals_for', 'goals_against', 'game_count', 'team_name', 'win_pct',\n",
       "       'avg_gf', 'avg_ga'],\n",
       "      dtype='object')"
      ]
     },
     "execution_count": 42,
     "metadata": {},
     "output_type": "execute_result"
    }
   ],
   "source": [
    "NHL_Team_R_Stats.columns"
   ]
  },
  {
   "cell_type": "code",
   "execution_count": 19,
   "metadata": {},
   "outputs": [
    {
     "name": "stdout",
     "output_type": "stream",
     "text": [
      "                            OLS Regression Results                            \n",
      "==============================================================================\n",
      "Dep. Variable:                win_pct   R-squared:                       0.917\n",
      "Model:                            OLS   Adj. R-squared:                  0.914\n",
      "Method:                 Least Squares   F-statistic:                     274.7\n",
      "Date:                Sun, 15 Dec 2024   Prob (F-statistic):           3.46e-90\n",
      "Time:                        16:20:22   Log-Likelihood:                 398.77\n",
      "No. Observations:                 181   AIC:                            -781.5\n",
      "Df Residuals:                     173   BIC:                            -756.0\n",
      "Df Model:                           7                                         \n",
      "Covariance Type:            nonrobust                                         \n",
      "==================================================================================================================\n",
      "                                                     coef    std err          t      P>|t|      [0.025      0.975]\n",
      "------------------------------------------------------------------------------------------------------------------\n",
      "Intercept                                          0.4771      0.036     13.417      0.000       0.407       0.547\n",
      "C(competition_name)[T.2013 NHL Regular Season]     0.0043      0.007      0.608      0.544      -0.010       0.018\n",
      "C(competition_name)[T.2014 NHL Regular Season]     0.0028      0.007      0.399      0.690      -0.011       0.017\n",
      "C(competition_name)[T.2015 NHL Regular Season]     0.0022      0.007      0.307      0.760      -0.012       0.016\n",
      "C(competition_name)[T.2016 NHL Regular Season]     0.0012      0.007      0.172      0.863      -0.013       0.015\n",
      "C(competition_name)[T.2017 NHL Regular Season]    -0.0009      0.007     -0.125      0.901      -0.015       0.013\n",
      "avg_gf                                             0.1922      0.008     25.321      0.000       0.177       0.207\n",
      "avg_ga                                            -0.1861      0.007    -24.888      0.000      -0.201      -0.171\n",
      "==============================================================================\n",
      "Omnibus:                        1.127   Durbin-Watson:                   2.000\n",
      "Prob(Omnibus):                  0.569   Jarque-Bera (JB):                1.117\n",
      "Skew:                           0.188   Prob(JB):                        0.572\n",
      "Kurtosis:                       2.914   Cond. No.                         75.3\n",
      "==============================================================================\n",
      "\n",
      "Notes:\n",
      "[1] Standard Errors assume that the covariance matrix of the errors is correctly specified.\n"
     ]
    }
   ],
   "source": [
    "#reg5 = sm.ols(formula = 'win_pct ~ avg_gf+type', data= NHL_Team_Stats).fit()\n",
    "\n",
    "reg6 = sm.ols(\n",
    "    formula=\"win_pct ~ avg_gf + avg_ga + C(competition_name)\", \n",
    "    data=NHL_Team_R_Stats\n",
    ").fit()\n",
    "\n",
    "# Print the summary\n",
    "print(reg6.summary())"
   ]
  },
  {
   "cell_type": "markdown",
   "metadata": {},
   "source": [
    "### Regression with an interaction term\n",
    "\n",
    "What if the impact of an independent variable depends on the value of another variable? We can use interaction terms to allow for different impact of a variable based on one or more levels of another categorical variable.\n",
    "\n",
    "Let's consider the possibility that the average goals for may have different impact on winning percentage depending on the type of the game. We can run a regression of winning percentage on the average goals for, the type of the game, as well as the interaction between average goals for and type."
   ]
  },
  {
   "cell_type": "code",
   "execution_count": 20,
   "metadata": {},
   "outputs": [
    {
     "name": "stdout",
     "output_type": "stream",
     "text": [
      "                            OLS Regression Results                            \n",
      "==============================================================================\n",
      "Dep. Variable:                win_pct   R-squared:                       0.441\n",
      "Model:                            OLS   Adj. R-squared:                  0.436\n",
      "Method:                 Least Squares   F-statistic:                     96.00\n",
      "Date:                Sun, 15 Dec 2024   Prob (F-statistic):           8.01e-46\n",
      "Time:                        16:20:45   Log-Likelihood:                 325.08\n",
      "No. Observations:                 369   AIC:                            -642.2\n",
      "Df Residuals:                     365   BIC:                            -626.5\n",
      "Df Model:                           3                                         \n",
      "Covariance Type:            nonrobust                                         \n",
      "====================================================================================\n",
      "                       coef    std err          t      P>|t|      [0.025      0.975]\n",
      "------------------------------------------------------------------------------------\n",
      "Intercept           -0.1748      0.061     -2.868      0.004      -0.295      -0.055\n",
      "type[T.3]            0.2029      0.072      2.835      0.005       0.062       0.344\n",
      "avg_gf               0.2365      0.021     11.081      0.000       0.194       0.278\n",
      "avg_gf:type[T.3]    -0.0802      0.026     -3.102      0.002      -0.131      -0.029\n",
      "==============================================================================\n",
      "Omnibus:                       59.042   Durbin-Watson:                   1.801\n",
      "Prob(Omnibus):                  0.000   Jarque-Bera (JB):              145.437\n",
      "Skew:                          -0.787   Prob(JB):                     2.62e-32\n",
      "Kurtosis:                       5.643   Cond. No.                         56.6\n",
      "==============================================================================\n",
      "\n",
      "Notes:\n",
      "[1] Standard Errors assume that the covariance matrix of the errors is correctly specified.\n"
     ]
    }
   ],
   "source": [
    "reg7 = sm.ols(formula = 'win_pct ~ avg_gf+type+avg_gf*type', data= NHL_Team_Stats).fit()\n",
    "print(reg7.summary())"
   ]
  },
  {
   "cell_type": "markdown",
   "metadata": {},
   "source": [
    "_Interpretations_\n",
    "\n",
    "- For regular season games (type =2), scoring one more goal per game can increase the winning percentage by 0.2365 (23.65%);\n",
    "- For the playoff games (type =3), scoring one more goal per game will increase the winning percentage by 0.2365-0.0802=0.1563 (15.63%).\n",
    "\n",
    "\n",
    "## Self Test - 3\n",
    "#### Perform a similar exercise to find the relationship between the actual winning percentage and pythagorean winning percentage\n",
    "1. In the NHL_Team_Stats data, create the pythagorean winning percentage=goals_for^2/(goals_for^2+goals_against^2), call this new variable \"pyth_pct\"\n",
    "(In Python, ** is the operator for exponentiation. For example, the square of x would be x**2 in Python.)"
   ]
  },
  {
   "cell_type": "code",
   "execution_count": 45,
   "metadata": {},
   "outputs": [
    {
     "name": "stdout",
     "output_type": "stream",
     "text": [
      "   goals_for  goals_against  pyth_pct\n",
      "0       19.0           22.0  0.427219\n",
      "1       76.0           48.0  0.714851\n",
      "2       17.0           22.0  0.373868\n",
      "3       22.0           16.0  0.654054\n",
      "4       36.0           27.0  0.640000\n"
     ]
    }
   ],
   "source": [
    "\n",
    "NHL_Team_Stats['pyth_pct'] = NHL_Team_Stats['goals_for']**2 / (\n",
    "    NHL_Team_Stats['goals_for']**2 + NHL_Team_Stats['goals_against']**2\n",
    ")\n",
    "\n",
    "print(NHL_Team_Stats[['goals_for', 'goals_against', 'pyth_pct']].head())\n"
   ]
  },
  {
   "cell_type": "code",
   "execution_count": 46,
   "metadata": {},
   "outputs": [
    {
     "data": {
      "text/html": [
       "<div>\n",
       "<style scoped>\n",
       "    .dataframe tbody tr th:only-of-type {\n",
       "        vertical-align: middle;\n",
       "    }\n",
       "\n",
       "    .dataframe tbody tr th {\n",
       "        vertical-align: top;\n",
       "    }\n",
       "\n",
       "    .dataframe thead th {\n",
       "        text-align: right;\n",
       "    }\n",
       "</style>\n",
       "<table border=\"1\" class=\"dataframe\">\n",
       "  <thead>\n",
       "    <tr style=\"text-align: right;\">\n",
       "      <th></th>\n",
       "      <th>tricode</th>\n",
       "      <th>pp</th>\n",
       "      <th>pk</th>\n",
       "      <th>ppgf</th>\n",
       "      <th>competition_name</th>\n",
       "      <th>tid</th>\n",
       "      <th>type</th>\n",
       "      <th>win</th>\n",
       "      <th>goals_for</th>\n",
       "      <th>goals_against</th>\n",
       "      <th>game_count</th>\n",
       "      <th>team_name</th>\n",
       "      <th>win_pct</th>\n",
       "      <th>avg_gf</th>\n",
       "      <th>avg_ga</th>\n",
       "      <th>pyth_pct</th>\n",
       "    </tr>\n",
       "  </thead>\n",
       "  <tbody>\n",
       "    <tr>\n",
       "      <th>0</th>\n",
       "      <td>ANA</td>\n",
       "      <td>35</td>\n",
       "      <td>27</td>\n",
       "      <td>9.0</td>\n",
       "      <td>2010 NHL Playoff</td>\n",
       "      <td>21</td>\n",
       "      <td>3</td>\n",
       "      <td>2</td>\n",
       "      <td>19.0</td>\n",
       "      <td>22.0</td>\n",
       "      <td>6</td>\n",
       "      <td>Anaheim Ducks</td>\n",
       "      <td>0.333333</td>\n",
       "      <td>3.166667</td>\n",
       "      <td>3.666667</td>\n",
       "      <td>0.427219</td>\n",
       "    </tr>\n",
       "    <tr>\n",
       "      <th>1</th>\n",
       "      <td>BOS</td>\n",
       "      <td>126</td>\n",
       "      <td>116</td>\n",
       "      <td>22.0</td>\n",
       "      <td>2010 NHL Playoff</td>\n",
       "      <td>20</td>\n",
       "      <td>3</td>\n",
       "      <td>16</td>\n",
       "      <td>76.0</td>\n",
       "      <td>48.0</td>\n",
       "      <td>24</td>\n",
       "      <td>Boston Bruins</td>\n",
       "      <td>0.666667</td>\n",
       "      <td>3.166667</td>\n",
       "      <td>2.000000</td>\n",
       "      <td>0.714851</td>\n",
       "    </tr>\n",
       "    <tr>\n",
       "      <th>2</th>\n",
       "      <td>BUF</td>\n",
       "      <td>48</td>\n",
       "      <td>46</td>\n",
       "      <td>13.0</td>\n",
       "      <td>2010 NHL Playoff</td>\n",
       "      <td>17</td>\n",
       "      <td>3</td>\n",
       "      <td>3</td>\n",
       "      <td>17.0</td>\n",
       "      <td>22.0</td>\n",
       "      <td>7</td>\n",
       "      <td>Buffalo Sabres</td>\n",
       "      <td>0.428571</td>\n",
       "      <td>2.428571</td>\n",
       "      <td>3.142857</td>\n",
       "      <td>0.373868</td>\n",
       "    </tr>\n",
       "    <tr>\n",
       "      <th>3</th>\n",
       "      <td>CHI</td>\n",
       "      <td>27</td>\n",
       "      <td>39</td>\n",
       "      <td>6.0</td>\n",
       "      <td>2010 NHL Playoff</td>\n",
       "      <td>6</td>\n",
       "      <td>3</td>\n",
       "      <td>3</td>\n",
       "      <td>22.0</td>\n",
       "      <td>16.0</td>\n",
       "      <td>7</td>\n",
       "      <td>Chicago Blackhawks</td>\n",
       "      <td>0.428571</td>\n",
       "      <td>3.142857</td>\n",
       "      <td>2.285714</td>\n",
       "      <td>0.654054</td>\n",
       "    </tr>\n",
       "    <tr>\n",
       "      <th>4</th>\n",
       "      <td>DET</td>\n",
       "      <td>59</td>\n",
       "      <td>55</td>\n",
       "      <td>6.0</td>\n",
       "      <td>2010 NHL Playoff</td>\n",
       "      <td>18</td>\n",
       "      <td>3</td>\n",
       "      <td>7</td>\n",
       "      <td>36.0</td>\n",
       "      <td>27.0</td>\n",
       "      <td>11</td>\n",
       "      <td>Detroit Red Wings</td>\n",
       "      <td>0.636364</td>\n",
       "      <td>3.272727</td>\n",
       "      <td>2.454545</td>\n",
       "      <td>0.640000</td>\n",
       "    </tr>\n",
       "    <tr>\n",
       "      <th>...</th>\n",
       "      <td>...</td>\n",
       "      <td>...</td>\n",
       "      <td>...</td>\n",
       "      <td>...</td>\n",
       "      <td>...</td>\n",
       "      <td>...</td>\n",
       "      <td>...</td>\n",
       "      <td>...</td>\n",
       "      <td>...</td>\n",
       "      <td>...</td>\n",
       "      <td>...</td>\n",
       "      <td>...</td>\n",
       "      <td>...</td>\n",
       "      <td>...</td>\n",
       "      <td>...</td>\n",
       "      <td>...</td>\n",
       "    </tr>\n",
       "    <tr>\n",
       "      <th>364</th>\n",
       "      <td>TOR</td>\n",
       "      <td>256</td>\n",
       "      <td>245</td>\n",
       "      <td>58.0</td>\n",
       "      <td>2017 NHL Regular Season</td>\n",
       "      <td>1</td>\n",
       "      <td>2</td>\n",
       "      <td>47</td>\n",
       "      <td>268.0</td>\n",
       "      <td>232.0</td>\n",
       "      <td>79</td>\n",
       "      <td>Toronto Maple Leafs</td>\n",
       "      <td>0.594937</td>\n",
       "      <td>3.392405</td>\n",
       "      <td>2.936709</td>\n",
       "      <td>0.571629</td>\n",
       "    </tr>\n",
       "    <tr>\n",
       "      <th>365</th>\n",
       "      <td>VAN</td>\n",
       "      <td>299</td>\n",
       "      <td>272</td>\n",
       "      <td>63.0</td>\n",
       "      <td>2017 NHL Regular Season</td>\n",
       "      <td>53</td>\n",
       "      <td>2</td>\n",
       "      <td>30</td>\n",
       "      <td>219.0</td>\n",
       "      <td>268.0</td>\n",
       "      <td>81</td>\n",
       "      <td>Vancouver Canucks</td>\n",
       "      <td>0.370370</td>\n",
       "      <td>2.703704</td>\n",
       "      <td>3.308642</td>\n",
       "      <td>0.400392</td>\n",
       "    </tr>\n",
       "    <tr>\n",
       "      <th>366</th>\n",
       "      <td>VGK</td>\n",
       "      <td>257</td>\n",
       "      <td>273</td>\n",
       "      <td>64.0</td>\n",
       "      <td>2017 NHL Regular Season</td>\n",
       "      <td>59</td>\n",
       "      <td>2</td>\n",
       "      <td>50</td>\n",
       "      <td>269.0</td>\n",
       "      <td>223.0</td>\n",
       "      <td>81</td>\n",
       "      <td>Vegas Golden Knights</td>\n",
       "      <td>0.617284</td>\n",
       "      <td>3.320988</td>\n",
       "      <td>2.753086</td>\n",
       "      <td>0.592686</td>\n",
       "    </tr>\n",
       "    <tr>\n",
       "      <th>367</th>\n",
       "      <td>WPG</td>\n",
       "      <td>307</td>\n",
       "      <td>304</td>\n",
       "      <td>69.0</td>\n",
       "      <td>2017 NHL Regular Season</td>\n",
       "      <td>4</td>\n",
       "      <td>2</td>\n",
       "      <td>51</td>\n",
       "      <td>274.0</td>\n",
       "      <td>214.0</td>\n",
       "      <td>80</td>\n",
       "      <td>Winnipeg Jets</td>\n",
       "      <td>0.637500</td>\n",
       "      <td>3.425000</td>\n",
       "      <td>2.675000</td>\n",
       "      <td>0.621120</td>\n",
       "    </tr>\n",
       "    <tr>\n",
       "      <th>368</th>\n",
       "      <td>WSH</td>\n",
       "      <td>327</td>\n",
       "      <td>297</td>\n",
       "      <td>67.0</td>\n",
       "      <td>2017 NHL Regular Season</td>\n",
       "      <td>5</td>\n",
       "      <td>2</td>\n",
       "      <td>48</td>\n",
       "      <td>255.0</td>\n",
       "      <td>240.0</td>\n",
       "      <td>81</td>\n",
       "      <td>Washington Capitals</td>\n",
       "      <td>0.592593</td>\n",
       "      <td>3.148148</td>\n",
       "      <td>2.962963</td>\n",
       "      <td>0.530275</td>\n",
       "    </tr>\n",
       "  </tbody>\n",
       "</table>\n",
       "<p>369 rows × 16 columns</p>\n",
       "</div>"
      ],
      "text/plain": [
       "    tricode   pp   pk  ppgf         competition_name  tid type  win  \\\n",
       "0       ANA   35   27   9.0         2010 NHL Playoff   21    3    2   \n",
       "1       BOS  126  116  22.0         2010 NHL Playoff   20    3   16   \n",
       "2       BUF   48   46  13.0         2010 NHL Playoff   17    3    3   \n",
       "3       CHI   27   39   6.0         2010 NHL Playoff    6    3    3   \n",
       "4       DET   59   55   6.0         2010 NHL Playoff   18    3    7   \n",
       "..      ...  ...  ...   ...                      ...  ...  ...  ...   \n",
       "364     TOR  256  245  58.0  2017 NHL Regular Season    1    2   47   \n",
       "365     VAN  299  272  63.0  2017 NHL Regular Season   53    2   30   \n",
       "366     VGK  257  273  64.0  2017 NHL Regular Season   59    2   50   \n",
       "367     WPG  307  304  69.0  2017 NHL Regular Season    4    2   51   \n",
       "368     WSH  327  297  67.0  2017 NHL Regular Season    5    2   48   \n",
       "\n",
       "     goals_for  goals_against  game_count             team_name   win_pct  \\\n",
       "0         19.0           22.0           6         Anaheim Ducks  0.333333   \n",
       "1         76.0           48.0          24         Boston Bruins  0.666667   \n",
       "2         17.0           22.0           7        Buffalo Sabres  0.428571   \n",
       "3         22.0           16.0           7    Chicago Blackhawks  0.428571   \n",
       "4         36.0           27.0          11     Detroit Red Wings  0.636364   \n",
       "..         ...            ...         ...                   ...       ...   \n",
       "364      268.0          232.0          79   Toronto Maple Leafs  0.594937   \n",
       "365      219.0          268.0          81     Vancouver Canucks  0.370370   \n",
       "366      269.0          223.0          81  Vegas Golden Knights  0.617284   \n",
       "367      274.0          214.0          80         Winnipeg Jets  0.637500   \n",
       "368      255.0          240.0          81   Washington Capitals  0.592593   \n",
       "\n",
       "       avg_gf    avg_ga  pyth_pct  \n",
       "0    3.166667  3.666667  0.427219  \n",
       "1    3.166667  2.000000  0.714851  \n",
       "2    2.428571  3.142857  0.373868  \n",
       "3    3.142857  2.285714  0.654054  \n",
       "4    3.272727  2.454545  0.640000  \n",
       "..        ...       ...       ...  \n",
       "364  3.392405  2.936709  0.571629  \n",
       "365  2.703704  3.308642  0.400392  \n",
       "366  3.320988  2.753086  0.592686  \n",
       "367  3.425000  2.675000  0.621120  \n",
       "368  3.148148  2.962963  0.530275  \n",
       "\n",
       "[369 rows x 16 columns]"
      ]
     },
     "execution_count": 46,
     "metadata": {},
     "output_type": "execute_result"
    }
   ],
   "source": [
    "\n",
    "NHL_Team_Stats"
   ]
  },
  {
   "cell_type": "code",
   "execution_count": 47,
   "metadata": {},
   "outputs": [
    {
     "name": "stdout",
     "output_type": "stream",
     "text": [
      "                            OLS Regression Results                            \n",
      "==============================================================================\n",
      "Dep. Variable:                win_pct   R-squared:                       0.779\n",
      "Model:                            OLS   Adj. R-squared:                  0.779\n",
      "Method:                 Least Squares   F-statistic:                     1297.\n",
      "Date:                Sun, 15 Dec 2024   Prob (F-statistic):          1.65e-122\n",
      "Time:                        16:26:23   Log-Likelihood:                 496.63\n",
      "No. Observations:                 369   AIC:                            -989.3\n",
      "Df Residuals:                     367   BIC:                            -981.4\n",
      "Df Model:                           1                                         \n",
      "Covariance Type:            nonrobust                                         \n",
      "==============================================================================\n",
      "                 coef    std err          t      P>|t|      [0.025      0.975]\n",
      "------------------------------------------------------------------------------\n",
      "Intercept     -0.0447      0.015     -3.052      0.002      -0.074      -0.016\n",
      "pyth_pct       1.0673      0.030     36.011      0.000       1.009       1.126\n",
      "==============================================================================\n",
      "Omnibus:                       86.393   Durbin-Watson:                   2.032\n",
      "Prob(Omnibus):                  0.000   Jarque-Bera (JB):              317.333\n",
      "Skew:                          -0.989   Prob(JB):                     1.24e-69\n",
      "Kurtosis:                       7.090   Cond. No.                         11.1\n",
      "==============================================================================\n",
      "\n",
      "Notes:\n",
      "[1] Standard Errors assume that the covariance matrix of the errors is correctly specified.\n"
     ]
    }
   ],
   "source": [
    "#Your Code Here\n",
    "reg8 = sm.ols(formula=\"win_pct ~ pyth_pct\", data=NHL_Team_Stats).fit()\n",
    "# Print the summary\n",
    "print(reg8.summary())"
   ]
  },
  {
   "cell_type": "markdown",
   "metadata": {},
   "source": [
    "2. Create a scatter plot to show the relationship between Pythagorean winning percentage and the actual winning percentage\n"
   ]
  },
  {
   "cell_type": "code",
   "execution_count": 49,
   "metadata": {},
   "outputs": [
    {
     "data": {
      "text/plain": [
       "<AxesSubplot:xlabel='pyth_pct', ylabel='win_pct'>"
      ]
     },
     "execution_count": 49,
     "metadata": {},
     "output_type": "execute_result"
    },
    {
     "data": {
      "image/png": "[encoded data removed]",
      "text/plain": [
       "<Figure size 432x288 with 1 Axes>"
      ]
     },
     "metadata": {
      "needs_background": "light"
     },
     "output_type": "display_data"
    }
   ],
   "source": [
    "#Your Code Here\n",
    "sns.scatterplot(x= \"pyth_pct\" , y =\"win_pct\", data=NHL_Team_Stats)"
   ]
  },
  {
   "cell_type": "markdown",
   "metadata": {},
   "source": [
    "3. Run a linear regression (reg8) where winning percentage is the dependent variable and Pythagorean winning percentage is the explanatory variable.\n",
    "4. Interpret the estimate on the Pythagorean winning percentage and the goodness of fit of the regression model.\n"
   ]
  },
  {
   "cell_type": "code",
   "execution_count": null,
   "metadata": {},
   "outputs": [],
   "source": [
    "#Your Code Here"
   ]
  },
  {
   "cell_type": "markdown",
   "metadata": {},
   "source": [
    "5. Create a scatter plot to show the relationship between winning percentage and Pythagorean winning percentage, seperate the data points by the type of competition.\n"
   ]
  },
  {
   "cell_type": "code",
   "execution_count": 56,
   "metadata": {},
   "outputs": [
    {
     "data": {
      "text/plain": [
       "<AxesSubplot:xlabel='pyth_pct', ylabel='win_pct'>"
      ]
     },
     "execution_count": 56,
     "metadata": {},
     "output_type": "execute_result"
    },
    {
     "data": {
      "image/png": "[encoded data removed]",
      "text/plain": [
       "<Figure size 720x720 with 1 Axes>"
      ]
     },
     "metadata": {
      "needs_background": "light"
     },
     "output_type": "display_data"
    }
   ],
   "source": [
    "#Your Code Here\n",
    "plt.figure(figsize=(10,10))\n",
    "sns.scatterplot(x= \"pyth_pct\" , y =\"win_pct\", data=NHL_Team_Stats , hue= \"competition_name\", legend=True)"
   ]
  },
  {
   "cell_type": "markdown",
   "metadata": {},
   "source": [
    "6. Run a regression (reg9) where winning percentage is the dependent variable and Pythagorean winning percentage is the explanatory variable, controlling for the different competitions.\n",
    "7. Interpret the estimate on the Pythagorean winning percentage and the goodness of fit of the regression model."
   ]
  },
  {
   "cell_type": "code",
   "execution_count": null,
   "metadata": {},
   "outputs": [],
   "source": [
    "#Your Code Here"
   ]
  },
  {
   "cell_type": "markdown",
   "metadata": {},
   "source": [
    "8. Run a regression (reg10) where winning percentage is the dependent variable and Pythagorean winning percentage, competition, and the interaction between competition and Pythagorean are the explanatory variables\n",
    "9. Interpret the estimate on the Pythagorean winning percentage and the goodness of fit of the regression model"
   ]
  },
  {
   "cell_type": "code",
   "execution_count": null,
   "metadata": {},
   "outputs": [],
   "source": [
    "#Your Code Here"
   ]
  },
  {
   "cell_type": "markdown",
   "metadata": {},
   "source": [
    "10. Discussion question: how well does Pythagorean winning percentage predicts the actual winning percentage based on our data?"
   ]
  }
 ],
 "metadata": {
  "kernelspec": {
   "display_name": "hands_on_ml_env",
   "language": "python",
   "name": "python3"
  },
  "language_info": {
   "codemirror_mode": {
    "name": "ipython",
    "version": 3
   },
   "file_extension": ".py",
   "mimetype": "text/x-python",
   "name": "python",
   "nbconvert_exporter": "python",
   "pygments_lexer": "ipython3",
   "version": "3.6.13"
  }
 },
 "nbformat": 4,
 "nbformat_minor": 2
}
