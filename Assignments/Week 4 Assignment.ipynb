{
 "cells": [
  {
   "cell_type": "markdown",
   "metadata": {},
   "source": [
    "## Part 1 - Import and Explore Data "
   ]
  },
  {
   "cell_type": "code",
   "execution_count": 1,
   "metadata": {},
   "outputs": [],
   "source": [
    "#Import Libraries\n",
    "import pandas as pd\n",
    "import numpy as np\n",
    "import datetime\n",
    "import statsmodels.formula.api as sm"
   ]
  },
  {
   "cell_type": "code",
   "execution_count": 3,
   "metadata": {},
   "outputs": [
    {
     "data": {
      "text/html": [
       "<div>\n",
       "<style scoped>\n",
       "    .dataframe tbody tr th:only-of-type {\n",
       "        vertical-align: middle;\n",
       "    }\n",
       "\n",
       "    .dataframe tbody tr th {\n",
       "        vertical-align: top;\n",
       "    }\n",
       "\n",
       "    .dataframe thead th {\n",
       "        text-align: right;\n",
       "    }\n",
       "</style>\n",
       "<table border=\"1\" class=\"dataframe\">\n",
       "  <thead>\n",
       "    <tr style=\"text-align: right;\">\n",
       "      <th></th>\n",
       "      <th>game_id</th>\n",
       "      <th>stadium</th>\n",
       "      <th>date</th>\n",
       "      <th>score</th>\n",
       "      <th>weather_temperature</th>\n",
       "      <th>weather_wind_mph</th>\n",
       "      <th>weather_humidity</th>\n",
       "      <th>score_diff</th>\n",
       "      <th>home</th>\n",
       "      <th>win</th>\n",
       "      <th>...</th>\n",
       "      <th>stadium_close</th>\n",
       "      <th>stadium_type</th>\n",
       "      <th>stadium_age</th>\n",
       "      <th>conference</th>\n",
       "      <th>division</th>\n",
       "      <th>season</th>\n",
       "      <th>team_division</th>\n",
       "      <th>team_division_pre2002</th>\n",
       "      <th>team</th>\n",
       "      <th>stadium_neutral</th>\n",
       "    </tr>\n",
       "  </thead>\n",
       "  <tbody>\n",
       "    <tr>\n",
       "      <th>0</th>\n",
       "      <td>1</td>\n",
       "      <td>Orange Bowl</td>\n",
       "      <td>9/2/1966</td>\n",
       "      <td>14</td>\n",
       "      <td>83</td>\n",
       "      <td>6</td>\n",
       "      <td>71</td>\n",
       "      <td>-9</td>\n",
       "      <td>1</td>\n",
       "      <td>0</td>\n",
       "      <td>...</td>\n",
       "      <td>2008.0</td>\n",
       "      <td>outdoor</td>\n",
       "      <td>29</td>\n",
       "      <td>NFC</td>\n",
       "      <td>NFC West</td>\n",
       "      <td>1966</td>\n",
       "      <td>AFC East</td>\n",
       "      <td>AFC East</td>\n",
       "      <td>Miami Dolphins</td>\n",
       "      <td>0</td>\n",
       "    </tr>\n",
       "    <tr>\n",
       "      <th>1</th>\n",
       "      <td>1</td>\n",
       "      <td>Orange Bowl</td>\n",
       "      <td>9/2/1966</td>\n",
       "      <td>23</td>\n",
       "      <td>83</td>\n",
       "      <td>6</td>\n",
       "      <td>71</td>\n",
       "      <td>9</td>\n",
       "      <td>0</td>\n",
       "      <td>1</td>\n",
       "      <td>...</td>\n",
       "      <td>2008.0</td>\n",
       "      <td>outdoor</td>\n",
       "      <td>29</td>\n",
       "      <td>AFC</td>\n",
       "      <td>AFC Central</td>\n",
       "      <td>1966</td>\n",
       "      <td>AFC West</td>\n",
       "      <td>AFC West</td>\n",
       "      <td>Oakland Raiders</td>\n",
       "      <td>0</td>\n",
       "    </tr>\n",
       "    <tr>\n",
       "      <th>2</th>\n",
       "      <td>2</td>\n",
       "      <td>Rice Stadium</td>\n",
       "      <td>9/3/1966</td>\n",
       "      <td>45</td>\n",
       "      <td>81</td>\n",
       "      <td>7</td>\n",
       "      <td>70</td>\n",
       "      <td>38</td>\n",
       "      <td>1</td>\n",
       "      <td>1</td>\n",
       "      <td>...</td>\n",
       "      <td>NaN</td>\n",
       "      <td>outdoor</td>\n",
       "      <td>16</td>\n",
       "      <td>NFC</td>\n",
       "      <td>NFC West</td>\n",
       "      <td>1966</td>\n",
       "      <td>NaN</td>\n",
       "      <td>AFC Central</td>\n",
       "      <td>Houston Oilers</td>\n",
       "      <td>0</td>\n",
       "    </tr>\n",
       "    <tr>\n",
       "      <th>3</th>\n",
       "      <td>2</td>\n",
       "      <td>Rice Stadium</td>\n",
       "      <td>9/3/1966</td>\n",
       "      <td>7</td>\n",
       "      <td>81</td>\n",
       "      <td>7</td>\n",
       "      <td>70</td>\n",
       "      <td>-38</td>\n",
       "      <td>0</td>\n",
       "      <td>0</td>\n",
       "      <td>...</td>\n",
       "      <td>NaN</td>\n",
       "      <td>outdoor</td>\n",
       "      <td>16</td>\n",
       "      <td>NFC</td>\n",
       "      <td>NFC West</td>\n",
       "      <td>1966</td>\n",
       "      <td>AFC West</td>\n",
       "      <td>AFC West</td>\n",
       "      <td>Denver Broncos</td>\n",
       "      <td>0</td>\n",
       "    </tr>\n",
       "    <tr>\n",
       "      <th>4</th>\n",
       "      <td>3</td>\n",
       "      <td>Balboa Stadium</td>\n",
       "      <td>9/4/1966</td>\n",
       "      <td>27</td>\n",
       "      <td>70</td>\n",
       "      <td>7</td>\n",
       "      <td>82</td>\n",
       "      <td>20</td>\n",
       "      <td>1</td>\n",
       "      <td>1</td>\n",
       "      <td>...</td>\n",
       "      <td>NaN</td>\n",
       "      <td>outdoor</td>\n",
       "      <td>52</td>\n",
       "      <td>NFC</td>\n",
       "      <td>NFC West</td>\n",
       "      <td>1966</td>\n",
       "      <td>AFC West</td>\n",
       "      <td>AFC West</td>\n",
       "      <td>San Diego Chargers</td>\n",
       "      <td>0</td>\n",
       "    </tr>\n",
       "  </tbody>\n",
       "</table>\n",
       "<p>5 rows × 28 columns</p>\n",
       "</div>"
      ],
      "text/plain": [
       "   game_id         stadium      date  score  weather_temperature  \\\n",
       "0        1     Orange Bowl  9/2/1966     14                   83   \n",
       "1        1     Orange Bowl  9/2/1966     23                   83   \n",
       "2        2    Rice Stadium  9/3/1966     45                   81   \n",
       "3        2    Rice Stadium  9/3/1966      7                   81   \n",
       "4        3  Balboa Stadium  9/4/1966     27                   70   \n",
       "\n",
       "   weather_wind_mph  weather_humidity  score_diff  home  win  ...  \\\n",
       "0                 6                71          -9     1    0  ...   \n",
       "1                 6                71           9     0    1  ...   \n",
       "2                 7                70          38     1    1  ...   \n",
       "3                 7                70         -38     0    0  ...   \n",
       "4                 7                82          20     1    1  ...   \n",
       "\n",
       "   stadium_close stadium_type stadium_age conference     division season  \\\n",
       "0         2008.0      outdoor          29        NFC     NFC West   1966   \n",
       "1         2008.0      outdoor          29        AFC  AFC Central   1966   \n",
       "2            NaN      outdoor          16        NFC     NFC West   1966   \n",
       "3            NaN      outdoor          16        NFC     NFC West   1966   \n",
       "4            NaN      outdoor          52        NFC     NFC West   1966   \n",
       "\n",
       "   team_division  team_division_pre2002                team stadium_neutral  \n",
       "0       AFC East               AFC East      Miami Dolphins               0  \n",
       "1       AFC West               AFC West     Oakland Raiders               0  \n",
       "2            NaN            AFC Central      Houston Oilers               0  \n",
       "3       AFC West               AFC West      Denver Broncos               0  \n",
       "4       AFC West               AFC West  San Diego Chargers               0  \n",
       "\n",
       "[5 rows x 28 columns]"
      ]
     },
     "metadata": {},
     "output_type": "display_data"
    }
   ],
   "source": [
    "#Import NFL_Game dataset\n",
    "NFL_Game=pd.read_csv(\"Assignment Data/Week 4/nfl_game.csv\")\n",
    "display(NFL_Game.head())"
   ]
  },
  {
   "cell_type": "code",
   "execution_count": 5,
   "metadata": {},
   "outputs": [
    {
     "name": "stdout",
     "output_type": "stream",
     "text": [
      "count                   24314\n",
      "unique                   2065\n",
      "top       2017-01-01 00:00:00\n",
      "freq                       32\n",
      "first     1966-09-02 00:00:00\n",
      "last      2019-12-29 00:00:00\n",
      "Name: date, dtype: object\n"
     ]
    },
    {
     "name": "stderr",
     "output_type": "stream",
     "text": [
      "c:\\Users\\Dell\\anaconda3\\envs\\hands_on_ml_env\\lib\\site-packages\\ipykernel_launcher.py:2: FutureWarning: Treating datetime data as categorical rather than numeric in `.describe` is deprecated and will be removed in a future version of pandas. Specify `datetime_is_numeric=True` to silence this warning and adopt the future behavior now.\n",
      "  \n"
     ]
    }
   ],
   "source": [
    "NFL_Game['date'] = pd.to_datetime(NFL_Game['date'], format='%m/%d/%Y')\n",
    "print(NFL_Game['date'].describe())\n"
   ]
  },
  {
   "cell_type": "code",
   "execution_count": 7,
   "metadata": {},
   "outputs": [
    {
     "name": "stdout",
     "output_type": "stream",
     "text": [
      "Home Game Score Summary:\n",
      " count    12157.000000\n",
      "mean        22.254997\n",
      "std         10.533005\n",
      "min          0.000000\n",
      "25%         14.000000\n",
      "50%         21.000000\n",
      "75%         29.000000\n",
      "max         72.000000\n",
      "Name: score, dtype: float64\n",
      "\n",
      "Away Game Score Summary:\n",
      " count    12157.000000\n",
      "mean        19.643004\n",
      "std         10.166614\n",
      "min          0.000000\n",
      "25%         13.000000\n",
      "50%         20.000000\n",
      "75%         27.000000\n",
      "max         62.000000\n",
      "Name: score, dtype: float64\n"
     ]
    }
   ],
   "source": [
    "home_score_stats = NFL_Game[NFL_Game['home'] == 1]['score'].describe()\n",
    "away_score_stats = NFL_Game[NFL_Game['home'] == 0]['score'].describe()\n",
    "\n",
    "print(\"Home Game Score Summary:\\n\", home_score_stats)\n",
    "print(\"\\nAway Game Score Summary:\\n\", away_score_stats)"
   ]
  },
  {
   "cell_type": "code",
   "execution_count": 8,
   "metadata": {},
   "outputs": [
    {
     "name": "stdout",
     "output_type": "stream",
     "text": [
      "Correlation between win and home: 0.14790211753177582\n"
     ]
    }
   ],
   "source": [
    "corr_win_home = NFL_Game['win'].corr(NFL_Game['home'])\n",
    "print(\"Correlation between win and home:\", corr_win_home)\n"
   ]
  },
  {
   "cell_type": "code",
   "execution_count": 9,
   "metadata": {},
   "outputs": [
    {
     "name": "stdout",
     "output_type": "stream",
     "text": [
      "Correlation between score_diff and home: 0.1725059685987271\n"
     ]
    }
   ],
   "source": [
    "corr_score_diff_home = NFL_Game['score_diff'].corr(NFL_Game['home'])\n",
    "print(\"Correlation between score_diff and home:\", corr_score_diff_home)\n"
   ]
  },
  {
   "cell_type": "code",
   "execution_count": 10,
   "metadata": {},
   "outputs": [
    {
     "name": "stdout",
     "output_type": "stream",
     "text": [
      "Correlation between score and weather_temperature: 0.033616900808932\n",
      "Correlation between score and weather_humidity: -0.03278832087607434\n",
      "Correlation between score and weather_wind_mph: -0.07895602955806053\n"
     ]
    }
   ],
   "source": [
    "corr_score_temp = NFL_Game['score'].corr(NFL_Game['weather_temperature'])\n",
    "corr_score_humidity = NFL_Game['score'].corr(NFL_Game['weather_humidity'])\n",
    "corr_score_wind = NFL_Game['score'].corr(NFL_Game['weather_wind_mph'])\n",
    "\n",
    "print(\"Correlation between score and weather_temperature:\", corr_score_temp)\n",
    "print(\"Correlation between score and weather_humidity:\", corr_score_humidity)\n",
    "print(\"Correlation between score and weather_wind_mph:\", corr_score_wind)\n"
   ]
  },
  {
   "cell_type": "markdown",
   "metadata": {},
   "source": [
    "## Part 2 - Regression Analysis 1 - Test of Home Game Advantage"
   ]
  },
  {
   "cell_type": "code",
   "execution_count": 11,
   "metadata": {},
   "outputs": [
    {
     "name": "stdout",
     "output_type": "stream",
     "text": [
      "                            OLS Regression Results                            \n",
      "==============================================================================\n",
      "Dep. Variable:             score_diff   R-squared:                       0.030\n",
      "Model:                            OLS   Adj. R-squared:                  0.030\n",
      "Method:                 Least Squares   F-statistic:                     745.7\n",
      "Date:                Sun, 15 Dec 2024   Prob (F-statistic):          9.64e-162\n",
      "Time:                        16:47:29   Log-Likelihood:            -1.0020e+05\n",
      "No. Observations:               24314   AIC:                         2.004e+05\n",
      "Df Residuals:                   24312   BIC:                         2.004e+05\n",
      "Df Model:                           1                                         \n",
      "Covariance Type:            nonrobust                                         \n",
      "==============================================================================\n",
      "                 coef    std err          t      P>|t|      [0.025      0.975]\n",
      "------------------------------------------------------------------------------\n",
      "Intercept     -2.6120      0.135    -19.309      0.000      -2.877      -2.347\n",
      "home           5.2240      0.191     27.307      0.000       4.849       5.599\n",
      "==============================================================================\n",
      "Omnibus:                       29.538   Durbin-Watson:                   3.021\n",
      "Prob(Omnibus):                  0.000   Jarque-Bera (JB):               34.843\n",
      "Skew:                           0.000   Prob(JB):                     2.72e-08\n",
      "Kurtosis:                       3.185   Cond. No.                         2.62\n",
      "==============================================================================\n",
      "\n",
      "Notes:\n",
      "[1] Standard Errors assume that the covariance matrix of the errors is correctly specified.\n"
     ]
    }
   ],
   "source": [
    "# Regression Model 1: home as the independent variable\n",
    "reg1_1 = sm.ols(formula='score_diff ~ home', data=NFL_Game).fit()\n",
    "\n",
    "# Display results\n",
    "print(reg1_1.summary())\n"
   ]
  },
  {
   "cell_type": "code",
   "execution_count": 12,
   "metadata": {},
   "outputs": [
    {
     "name": "stdout",
     "output_type": "stream",
     "text": [
      "                            OLS Regression Results                            \n",
      "==============================================================================\n",
      "Dep. Variable:             score_diff   R-squared:                       0.031\n",
      "Model:                            OLS   Adj. R-squared:                  0.030\n",
      "Method:                 Least Squares   F-statistic:                     191.7\n",
      "Date:                Sun, 15 Dec 2024   Prob (F-statistic):          3.99e-162\n",
      "Time:                        16:47:37   Log-Likelihood:            -1.0019e+05\n",
      "No. Observations:               24314   AIC:                         2.004e+05\n",
      "Df Residuals:                   24309   BIC:                         2.004e+05\n",
      "Df Model:                           4                                         \n",
      "Covariance Type:            nonrobust                                         \n",
      "========================================================================================\n",
      "                           coef    std err          t      P>|t|      [0.025      0.975]\n",
      "----------------------------------------------------------------------------------------\n",
      "Intercept               -2.6386      0.695     -3.796      0.000      -4.001      -1.276\n",
      "home                     5.2765      0.192     27.542      0.000       4.901       5.652\n",
      "stadium_capacity      5.195e-09   9.91e-06      0.001      1.000   -1.94e-05    1.94e-05\n",
      "stadium_neutral          7.2518      2.253      3.218      0.001       2.835      11.669\n",
      "home:stadium_neutral   -14.5038      3.185     -4.554      0.000     -20.746      -8.262\n",
      "==============================================================================\n",
      "Omnibus:                       30.413   Durbin-Watson:                   3.021\n",
      "Prob(Omnibus):                  0.000   Jarque-Bera (JB):               35.975\n",
      "Skew:                           0.000   Prob(JB):                     1.54e-08\n",
      "Kurtosis:                       3.188   Cond. No.                     2.65e+06\n",
      "==============================================================================\n",
      "\n",
      "Notes:\n",
      "[1] Standard Errors assume that the covariance matrix of the errors is correctly specified.\n",
      "[2] The condition number is large, 2.65e+06. This might indicate that there are\n",
      "strong multicollinearity or other numerical problems.\n"
     ]
    }
   ],
   "source": [
    "# Regression Model 2: home, stadium_capacity, stadium_neutral, and interaction between home and stadium_neutral\n",
    "reg1_2 = sm.ols(formula='score_diff ~ home + stadium_capacity + stadium_neutral + home:stadium_neutral', data=NFL_Game).fit()\n",
    "\n",
    "# Display results\n",
    "print(reg1_2.summary())\n"
   ]
  },
  {
   "cell_type": "code",
   "execution_count": 13,
   "metadata": {},
   "outputs": [
    {
     "name": "stdout",
     "output_type": "stream",
     "text": [
      "                            OLS Regression Results                            \n",
      "==============================================================================\n",
      "Dep. Variable:             score_diff   R-squared:                       0.066\n",
      "Model:                            OLS   Adj. R-squared:                  0.062\n",
      "Method:                 Least Squares   F-statistic:                     20.23\n",
      "Date:                Sun, 15 Dec 2024   Prob (F-statistic):          7.02e-288\n",
      "Time:                        16:47:43   Log-Likelihood:                -99748.\n",
      "No. Observations:               24314   AIC:                         1.997e+05\n",
      "Df Residuals:                   24229   BIC:                         2.004e+05\n",
      "Df Model:                          84                                         \n",
      "Covariance Type:            nonrobust                                         \n",
      "====================================================================================================\n",
      "                                       coef    std err          t      P>|t|      [0.025      0.975]\n",
      "----------------------------------------------------------------------------------------------------\n",
      "Intercept                           -2.6632      1.303     -2.045      0.041      -5.216      -0.110\n",
      "team[T.Atlanta Falcons]              1.4020      0.887      1.581      0.114      -0.336       3.140\n",
      "team[T.Baltimore Colts]              4.7400      1.176      4.029      0.000       2.434       7.046\n",
      "team[T.Baltimore Ravens]             6.9947      1.049      6.671      0.000       4.939       9.050\n",
      "team[T.Boston Patriots]             -5.4688      2.426     -2.254      0.024     -10.223      -0.714\n",
      "team[T.Buffalo Bills]                2.6976      0.895      3.013      0.003       0.943       4.452\n",
      "team[T.Carolina Panthers]            2.8287      1.033      2.739      0.006       0.804       4.853\n",
      "team[T.Chicago Bears]                3.1470      0.891      3.532      0.000       1.401       4.893\n",
      "team[T.Cincinnati Bengals]           3.0273      0.899      3.366      0.001       1.265       4.790\n",
      "team[T.Cleveland Browns]             1.8706      0.902      2.074      0.038       0.103       3.638\n",
      "team[T.Dallas Cowboys]               7.2406      0.889      8.148      0.000       5.499       8.982\n",
      "team[T.Denver Broncos]               5.7640      0.894      6.449      0.000       4.012       7.516\n",
      "team[T.Detroit Lions]                2.1544      0.891      2.418      0.016       0.408       3.901\n",
      "team[T.Green Bay Packers]            5.5421      0.892      6.212      0.000       3.793       7.291\n",
      "team[T.Houston Oilers]               2.2399      1.005      2.229      0.026       0.271       4.209\n",
      "team[T.Houston Texans]               1.8680      1.139      1.640      0.101      -0.364       4.100\n",
      "team[T.Indianapolis Colts]           3.4215      0.957      3.574      0.000       1.545       5.298\n",
      "team[T.Jacksonville Jaguars]         2.4906      1.041      2.393      0.017       0.451       4.530\n",
      "team[T.Kansas City Chiefs]           5.9594      0.894      6.669      0.000       4.208       7.711\n",
      "team[T.Los Angeles Chargers]         8.4669      2.252      3.760      0.000       4.053      12.880\n",
      "team[T.Los Angeles Raiders]          5.8639      1.284      4.566      0.000       3.346       8.381\n",
      "team[T.Los Angeles Rams]             6.8362      0.985      6.939      0.000       4.905       8.767\n",
      "team[T.Miami Dolphins]               5.0884      0.895      5.682      0.000       3.333       6.844\n",
      "team[T.Minnesota Vikings]            5.8586      0.892      6.571      0.000       4.111       7.606\n",
      "team[T.New England Patriots]         6.7568      0.903      7.482      0.000       4.987       8.527\n",
      "team[T.New Orleans Saints]           2.3444      0.890      2.635      0.008       0.600       4.089\n",
      "team[T.New York Giants]              3.0482      0.890      3.424      0.001       1.303       4.793\n",
      "team[T.New York Jets]                2.7233      0.896      3.039      0.002       0.967       4.480\n",
      "team[T.Oakland Raiders]              4.4887      0.942      4.764      0.000       2.642       6.335\n",
      "team[T.Philadelphia Eagles]          4.5285      0.889      5.096      0.000       2.787       6.270\n",
      "team[T.Phoenix Cardinals]           -0.6305      1.664     -0.379      0.705      -3.893       2.631\n",
      "team[T.Pittsburgh Steelers]          6.9192      0.893      7.746      0.000       5.168       8.670\n",
      "team[T.San Diego Chargers]           4.5277      0.902      5.018      0.000       2.759       6.296\n",
      "team[T.San Francisco 49ers]          5.7408      0.886      6.478      0.000       4.004       7.478\n",
      "team[T.Seattle Seahawks]             4.5305      0.917      4.940      0.000       2.733       6.328\n",
      "team[T.St. Louis Cardinals]          2.6075      1.102      2.367      0.018       0.448       4.767\n",
      "team[T.St. Louis Rams]               0.8767      1.080      0.812      0.417      -1.241       2.994\n",
      "team[T.Tampa Bay Buccaneers]         0.2885      0.917      0.315      0.753      -1.508       2.085\n",
      "team[T.Tennessee Oilers]             5.4830      2.698      2.032      0.042       0.194      10.772\n",
      "team[T.Tennessee Titans]             2.9169      1.090      2.676      0.007       0.781       5.053\n",
      "team[T.Washington Redskins]          4.2583      0.888      4.794      0.000       2.517       5.999\n",
      "opponent[T.Atlanta Falcons]         -1.4020      0.887     -1.581      0.114      -3.140       0.336\n",
      "opponent[T.Baltimore Colts]         -4.7398      1.176     -4.029      0.000      -7.046      -2.434\n",
      "opponent[T.Baltimore Ravens]        -6.9947      1.049     -6.671      0.000      -9.050      -4.939\n",
      "opponent[T.Boston Patriots]          5.4692      2.426      2.255      0.024       0.715      10.224\n",
      "opponent[T.Buffalo Bills]           -2.6976      0.895     -3.013      0.003      -4.452      -0.943\n",
      "opponent[T.Carolina Panthers]       -2.8288      1.033     -2.739      0.006      -4.853      -0.804\n",
      "opponent[T.Chicago Bears]           -3.1469      0.891     -3.532      0.000      -4.893      -1.401\n",
      "opponent[T.Cincinnati Bengals]      -3.0273      0.899     -3.366      0.001      -4.790      -1.265\n",
      "opponent[T.Cleveland Browns]        -1.8706      0.902     -2.074      0.038      -3.638      -0.103\n",
      "opponent[T.Dallas Cowboys]          -7.2407      0.889     -8.149      0.000      -8.982      -5.499\n",
      "opponent[T.Denver Broncos]          -5.7640      0.894     -6.449      0.000      -7.516      -4.012\n",
      "opponent[T.Detroit Lions]           -2.1544      0.891     -2.418      0.016      -3.901      -0.408\n",
      "opponent[T.Green Bay Packers]       -5.5422      0.892     -6.212      0.000      -7.291      -3.793\n",
      "opponent[T.Houston Oilers]          -2.2398      1.005     -2.229      0.026      -4.209      -0.271\n",
      "opponent[T.Houston Texans]          -1.8680      1.139     -1.640      0.101      -4.101       0.364\n",
      "opponent[T.Indianapolis Colts]      -3.4214      0.957     -3.573      0.000      -5.298      -1.545\n",
      "opponent[T.Jacksonville Jaguars]    -2.4906      1.041     -2.393      0.017      -4.530      -0.451\n",
      "opponent[T.Kansas City Chiefs]      -5.9595      0.894     -6.669      0.000      -7.711      -4.208\n",
      "opponent[T.Los Angeles Chargers]    -8.4666      2.252     -3.760      0.000     -12.880      -4.053\n",
      "opponent[T.Los Angeles Raiders]     -5.8641      1.284     -4.566      0.000      -8.382      -3.347\n",
      "opponent[T.Los Angeles Rams]        -6.8364      0.985     -6.939      0.000      -8.767      -4.905\n",
      "opponent[T.Miami Dolphins]          -5.0884      0.895     -5.682      0.000      -6.844      -3.333\n",
      "opponent[T.Minnesota Vikings]       -5.8586      0.892     -6.570      0.000      -7.606      -4.111\n",
      "opponent[T.New England Patriots]    -6.7567      0.903     -7.482      0.000      -8.527      -4.987\n",
      "opponent[T.New Orleans Saints]      -2.3445      0.890     -2.635      0.008      -4.089      -0.600\n",
      "opponent[T.New York Giants]         -3.0483      0.890     -3.424      0.001      -4.793      -1.303\n",
      "opponent[T.New York Jets]           -2.7234      0.896     -3.039      0.002      -4.480      -0.967\n",
      "opponent[T.Oakland Raiders]         -4.4886      0.942     -4.764      0.000      -6.335      -2.642\n",
      "opponent[T.Philadelphia Eagles]     -4.5285      0.889     -5.096      0.000      -6.270      -2.787\n",
      "opponent[T.Phoenix Cardinals]        0.6305      1.664      0.379      0.705      -2.631       3.893\n",
      "opponent[T.Pittsburgh Steelers]     -6.9192      0.893     -7.746      0.000      -8.670      -5.168\n",
      "opponent[T.San Diego Chargers]      -4.5277      0.902     -5.018      0.000      -6.296      -2.759\n",
      "opponent[T.San Francisco 49ers]     -5.7408      0.886     -6.478      0.000      -7.478      -4.004\n",
      "opponent[T.Seattle Seahawks]        -4.5305      0.917     -4.940      0.000      -6.328      -2.733\n",
      "opponent[T.St. Louis Cardinals]     -2.6074      1.102     -2.367      0.018      -4.767      -0.448\n",
      "opponent[T.St. Louis Rams]          -0.8767      1.080     -0.812      0.417      -2.994       1.241\n",
      "opponent[T.Tampa Bay Buccaneers]    -0.2885      0.917     -0.315      0.753      -2.085       1.508\n",
      "opponent[T.Tennessee Oilers]        -5.4828      2.698     -2.032      0.042     -10.772      -0.194\n",
      "opponent[T.Tennessee Titans]        -2.9169      1.090     -2.676      0.007      -5.053      -0.781\n",
      "opponent[T.Washington Redskins]     -4.2583      0.888     -4.794      0.000      -5.999      -2.517\n",
      "home                                 5.3252      0.189     28.243      0.000       4.956       5.695\n",
      "stadium_capacity                  9.169e-09   1.16e-05      0.001      0.999   -2.27e-05    2.27e-05\n",
      "stadium_neutral                      6.7440      2.226      3.029      0.002       2.380      11.108\n",
      "home:stadium_neutral               -13.4882      3.147     -4.286      0.000     -19.656      -7.320\n",
      "==============================================================================\n",
      "Omnibus:                       36.164   Durbin-Watson:                   3.021\n",
      "Prob(Omnibus):                  0.000   Jarque-Bera (JB):               43.526\n",
      "Skew:                           0.000   Prob(JB):                     3.53e-10\n",
      "Kurtosis:                       3.207   Cond. No.                     3.57e+06\n",
      "==============================================================================\n",
      "\n",
      "Notes:\n",
      "[1] Standard Errors assume that the covariance matrix of the errors is correctly specified.\n",
      "[2] The condition number is large, 3.57e+06. This might indicate that there are\n",
      "strong multicollinearity or other numerical problems.\n"
     ]
    }
   ],
   "source": [
    "# Regression Model 3: home, stadium_capacity, stadium_neutral, interaction between home and stadium_neutral, and team and opponent\n",
    "reg1_3 = sm.ols(formula='score_diff ~ home + stadium_capacity + stadium_neutral + home:stadium_neutral + team + opponent', data=NFL_Game).fit()\n",
    "\n",
    "# Display results\n",
    "print(reg1_3.summary())\n"
   ]
  },
  {
   "cell_type": "markdown",
   "metadata": {},
   "source": [
    "## Part 3 - Regression Analysis 2 -- Impact of Outside Factors on Scores"
   ]
  },
  {
   "cell_type": "code",
   "execution_count": null,
   "metadata": {},
   "outputs": [],
   "source": []
  }
 ],
 "metadata": {
  "kernelspec": {
   "display_name": "hands_on_ml_env",
   "language": "python",
   "name": "python3"
  },
  "language_info": {
   "codemirror_mode": {
    "name": "ipython",
    "version": 3
   },
   "file_extension": ".py",
   "mimetype": "text/x-python",
   "name": "python",
   "nbconvert_exporter": "python",
   "pygments_lexer": "ipython3",
   "version": "3.6.13"
  }
 },
 "nbformat": 4,
 "nbformat_minor": 2
}
